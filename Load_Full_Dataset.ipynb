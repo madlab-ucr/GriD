{
 "cells": [
  {
   "cell_type": "code",
   "execution_count": null,
   "metadata": {},
   "outputs": [],
   "source": [
    "import numpy as np\n",
    "import pandas as pd\n",
    "\n",
    "from utils.text_tensor import load_text_dataset_from_json\n",
    "\n",
    "import zstandard as zstd\n",
    "import json\n",
    "\n",
    "import io\n",
    "import re"
   ]
  },
  {
   "attachments": {},
   "cell_type": "markdown",
   "metadata": {},
   "source": [
    "## Load All Datasets"
   ]
  },
  {
   "cell_type": "code",
   "execution_count": null,
   "metadata": {},
   "outputs": [],
   "source": [
    "dataset_paths = input('Enter dataset paths, space separated: ').split()"
   ]
  },
  {
   "cell_type": "code",
   "execution_count": null,
   "metadata": {},
   "outputs": [],
   "source": [
    "dataset_paths"
   ]
  },
  {
   "cell_type": "code",
   "execution_count": null,
   "metadata": {},
   "outputs": [],
   "source": [
    "results = []\n",
    "for dataset_path in dataset_paths:\n",
    "    results.append(load_text_dataset_from_json(dataset_path))"
   ]
  },
  {
   "cell_type": "code",
   "execution_count": null,
   "metadata": {},
   "outputs": [],
   "source": [
    "data = []\n",
    "labels = []\n",
    "\n",
    "for result in results:\n",
    "    data.extend(result[0])\n",
    "    labels.extend(result[1])"
   ]
  },
  {
   "cell_type": "code",
   "execution_count": null,
   "metadata": {},
   "outputs": [],
   "source": [
    "data = np.array(data)\n",
    "labels = np.array(labels)"
   ]
  },
  {
   "cell_type": "code",
   "execution_count": null,
   "metadata": {},
   "outputs": [],
   "source": [
    "print(data.shape, labels.shape)"
   ]
  },
  {
   "cell_type": "code",
   "execution_count": null,
   "metadata": {},
   "outputs": [],
   "source": [
    "dataset = pd.DataFrame(data, columns=['Data'])"
   ]
  },
  {
   "cell_type": "code",
   "execution_count": null,
   "metadata": {},
   "outputs": [],
   "source": [
    "dataset['Labels'] = labels"
   ]
  },
  {
   "cell_type": "code",
   "execution_count": null,
   "metadata": {},
   "outputs": [],
   "source": [
    "np.unique(dataset['Labels'], return_counts=True)"
   ]
  },
  {
   "attachments": {},
   "cell_type": "markdown",
   "metadata": {},
   "source": [
    "## Remove Unnecessary characters and symbols\n",
    "\n",
    "Removing '>' characters, which symbolize replies in reddit comments. GPT would not generate this symbol."
   ]
  },
  {
   "cell_type": "code",
   "execution_count": null,
   "metadata": {},
   "outputs": [],
   "source": [
    "dataset['Data'] = dataset['Data'].str.replace('^>', '', regex=True)"
   ]
  },
  {
   "attachments": {},
   "cell_type": "markdown",
   "metadata": {},
   "source": [
    "Removing bot comments"
   ]
  },
  {
   "cell_type": "code",
   "execution_count": null,
   "metadata": {},
   "outputs": [],
   "source": [
    "dataset = dataset[~dataset['Data'].str.contains(\"I am a bot\")]"
   ]
  },
  {
   "attachments": {},
   "cell_type": "markdown",
   "metadata": {},
   "source": [
    "Removing profanity"
   ]
  },
  {
   "cell_type": "code",
   "execution_count": null,
   "metadata": {},
   "outputs": [],
   "source": [
    "from better_profanity import profanity\n",
    "\n",
    "def contains_explicit(text):\n",
    "    return profanity.contains_profanity(text)\n",
    "\n",
    "# Filter out rows containing explicit content\n",
    "filtered_data = dataset[dataset['Data'].apply(contains_explicit)]\n",
    "\n",
    "# Save the rows with explicit content to a separate CSV file\n",
    "filtered_data.to_csv('explicit_content.csv', index=False)\n",
    "\n",
    "# Remove the rows with explicit content from the original DataFrame\n",
    "clean_df = dataset.drop(filtered_data.index)\n",
    "\n",
    "# Save the cleaned DataFrame to another CSV file\n",
    "clean_df.to_csv('cleaned_content.csv', index=False)"
   ]
  },
  {
   "cell_type": "code",
   "execution_count": null,
   "metadata": {},
   "outputs": [],
   "source": [
    "print(clean_df.shape, dataset.shape)"
   ]
  },
  {
   "cell_type": "code",
   "execution_count": null,
   "metadata": {},
   "outputs": [],
   "source": [
    "print(filtered_data.shape, dataset.shape)"
   ]
  },
  {
   "attachments": {},
   "cell_type": "markdown",
   "metadata": {},
   "source": [
    "## Store Dataset"
   ]
  },
  {
   "cell_type": "code",
   "execution_count": null,
   "metadata": {},
   "outputs": [],
   "source": [
    "# Store dataframe as csv\n",
    "dataset.to_csv('datasets/reddit_datasets/gpt_reddit_dataset.csv', index=False)"
   ]
  },
  {
   "cell_type": "code",
   "execution_count": null,
   "metadata": {},
   "outputs": [],
   "source": [
    "# Convert DataFrame to a byte stream\n",
    "df_bytes = io.BytesIO()\n",
    "dataset.to_csv(df_bytes, index=False)\n",
    "\n",
    "# Compress the byte stream using Zstandard\n",
    "cmpr = zstd.ZstdCompressor()\n",
    "compressed_bytes = cmpr.compress(df_bytes.getvalue())"
   ]
  },
  {
   "cell_type": "code",
   "execution_count": null,
   "metadata": {},
   "outputs": [],
   "source": [
    "with open(f'datasets/reddit_datasets/gpt_reddit_dataset.zst', 'wb') as f:\n",
    "    f.write(compressed_bytes)"
   ]
  },
  {
   "attachments": {},
   "cell_type": "markdown",
   "metadata": {},
   "source": [
    "## Read the data"
   ]
  },
  {
   "cell_type": "code",
   "execution_count": null,
   "metadata": {},
   "outputs": [],
   "source": [
    "# Decompress the byte stream using Zstandard\n",
    "dctx = zstd.ZstdDecompressor()\n",
    "decompressed_bytes = dctx.decompress(compressed_bytes)\n",
    "\n",
    "# Convert the decompressed byte stream back to a DataFrame\n",
    "dataset = pd.read_csv(io.BytesIO(decompressed_bytes))\n",
    "\n",
    "# Print the decompressed DataFrame (optional, just to check the result)\n",
    "print(dataset)\n"
   ]
  },
  {
   "attachments": {},
   "cell_type": "markdown",
   "metadata": {},
   "source": [
    "## Store dataset without special characters"
   ]
  },
  {
   "cell_type": "code",
   "execution_count": null,
   "metadata": {},
   "outputs": [],
   "source": [
    "# Function to remove non-alphanumeric characters and links\n",
    "def clean_text(text):\n",
    "    # Replace any URL-like patterns with an empty string\n",
    "    text = re.sub(r'\\b(?:https?://|www\\.)\\S+\\b', '', text)\n",
    "    # Replace non-alphanumeric characters\n",
    "    text = re.sub(r'[^\\w\\s$.,!?\"\\']', '', text)\n",
    "    # Remove extra spaces (optional)\n",
    "    text = re.sub(r'\\s+', ' ', text).strip()\n",
    "    return text\n",
    "\n",
    "# Apply the clean_text function to the 'text_column'\n",
    "# Create a new DataFrame with the cleaned 'text_column' and include 'other_column'\n",
    "cleaned_dataset = pd.DataFrame({\n",
    "    'Data': dataset['Data'].apply(clean_text),\n",
    "    'Labels': dataset['Labels']\n",
    "})"
   ]
  },
  {
   "cell_type": "code",
   "execution_count": null,
   "metadata": {},
   "outputs": [],
   "source": [
    "# Convert DataFrame to a byte stream\n",
    "df_bytes = io.BytesIO()\n",
    "cleaned_dataset.to_csv(df_bytes, index=False)\n",
    "\n",
    "# Compress the byte stream using Zstandard\n",
    "cmpr = zstd.ZstdCompressor()\n",
    "compressed_bytes = cmpr.compress(df_bytes.getvalue())"
   ]
  },
  {
   "cell_type": "code",
   "execution_count": null,
   "metadata": {},
   "outputs": [],
   "source": [
    "cleaned_dataset.to_csv('datasets/reddit_datasets/gpt_reddit_dataset_cleaned.csv', index=False)"
   ]
  },
  {
   "cell_type": "code",
   "execution_count": null,
   "metadata": {},
   "outputs": [],
   "source": [
    "with open(f'dataset_output.txt', 'w') as f:\n",
    "    f.write(cleaned_dataset.to_markdown())"
   ]
  },
  {
   "attachments": {},
   "cell_type": "markdown",
   "metadata": {},
   "source": [
    "## Filter existing dataset\n",
    "\n",
    "Filtering more unique outliers from the text data. The goal is to standardize the text format as much as possible. "
   ]
  },
  {
   "cell_type": "code",
   "execution_count": null,
   "metadata": {},
   "outputs": [],
   "source": [
    "data = pd.read_csv(\"datasets/reddit_datasets/reddit_filtered_data.csv\")\n",
    "\n",
    "pd.options.mode.chained_assignment = None  # default='warn'\n",
    "\n",
    "# # Remove start and end quotes.\n",
    "# data['TextOnly'] = data['Data'].apply(lambda x: x[1:-1] if x.startswith('\"') and x.endswith('\"') else x)\n"
   ]
  },
  {
   "cell_type": "code",
   "execution_count": null,
   "metadata": {},
   "outputs": [],
   "source": [
    "# Remove href links in format [text](link) and regular links\n",
    "pattern = r'\\[([^]]*)\\]\\([^)]*\\)'\n",
    "\n",
    "data['Data'] = data['Data'].apply(lambda x: re.sub(pattern, r'\\1', x))\n",
    "data['Data'] = data['Data'].apply(lambda x: re.sub(r'http\\S+', '', x))"
   ]
  },
  {
   "cell_type": "code",
   "execution_count": null,
   "metadata": {},
   "outputs": [],
   "source": [
    "# Remove newline characters\n",
    "data['Data'] = data['Data'].str.replace('\\n', '')"
   ]
  },
  {
   "cell_type": "code",
   "execution_count": null,
   "metadata": {},
   "outputs": [],
   "source": [
    "# Remove u/ reddit specific character\n",
    "\n",
    "data['Data'] = data['Data'].str.replace('u/', '')"
   ]
  },
  {
   "cell_type": "code",
   "execution_count": null,
   "metadata": {},
   "outputs": [],
   "source": [
    "# Remove > reddit specific character\n",
    "\n",
    "data['Data'] = data['Data'].str.replace('> ', '')"
   ]
  },
  {
   "cell_type": "code",
   "execution_count": null,
   "metadata": {},
   "outputs": [],
   "source": [
    "# Remove ** (markdown bolding)\n",
    "\n",
    "data['Data'] = data['Data'].apply(lambda x: re.sub(r'\\*{2,}', '*', re.sub(r'\\*(.*?)\\*', r'\\1', x)))"
   ]
  },
  {
   "cell_type": "code",
   "execution_count": null,
   "metadata": {},
   "outputs": [],
   "source": [
    "# Remove data under 50 characters. \n",
    "data = data[data['Data'].apply(len) >= 100]"
   ]
  },
  {
   "cell_type": "code",
   "execution_count": null,
   "metadata": {},
   "outputs": [],
   "source": [
    "data.to_csv('reddit_more_filtered_dataset.csv', index=False)"
   ]
  }
 ],
 "metadata": {
  "kernelspec": {
   "display_name": "anom_detect",
   "language": "python",
   "name": "python3"
  },
  "language_info": {
   "codemirror_mode": {
    "name": "ipython",
    "version": 3
   },
   "file_extension": ".py",
   "mimetype": "text/x-python",
   "name": "python",
   "nbconvert_exporter": "python",
   "pygments_lexer": "ipython3",
   "version": "3.10.5"
  },
  "orig_nbformat": 4
 },
 "nbformat": 4,
 "nbformat_minor": 2
}
