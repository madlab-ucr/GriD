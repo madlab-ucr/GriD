{
 "cells": [
  {
   "cell_type": "code",
   "execution_count": 20,
   "metadata": {},
   "outputs": [],
   "source": [
    "import numpy as np\n",
    "\n",
    "import pickle\n",
    "\n",
    "import matplotlib.pyplot as plt\n",
    "import seaborn as sns\n",
    "\n",
    "import torch\n",
    "\n",
    "from tqdm import tqdm\n",
    "\n",
    "import networkx as nx"
   ]
  },
  {
   "cell_type": "code",
   "execution_count": 39,
   "metadata": {},
   "outputs": [],
   "source": [
    "with open(input('Enter saved dataset file path: '), 'rb') as f:\n",
    "    G, ego_gs, roots, labels = pickle.load(f)\n",
    "\n",
    "N = G.number_of_nodes()"
   ]
  },
  {
   "cell_type": "code",
   "execution_count": null,
   "metadata": {},
   "outputs": [],
   "source": [
    "padded_gs = []\n",
    "\n",
    "undirected = not nx.is_directed(G)\n",
    "\n",
    "for i, g in enumerate(tqdm(ego_gs)):\n",
    "    ego_adj_list = dict(g.adjacency())\n",
    "    \n",
    "    result = np.zeros((N, N))\n",
    "    for node in ego_adj_list.keys():    \n",
    "        for neighbor in ego_adj_list[node].keys():\n",
    "\n",
    "            result[node][neighbor] = 1\n",
    "            if undirected:\n",
    "                result[neighbor][node] = 1\n",
    "            \n",
    "    padded_gs.append(result)"
   ]
  },
  {
   "cell_type": "code",
   "execution_count": 38,
   "metadata": {},
   "outputs": [],
   "source": [
    "factor_path = input('Enter file path for factors: ')\n",
    "\n",
    "with open(factor_path, 'rb') as f:\n",
    "    factors = pickle.load(f)"
   ]
  },
  {
   "cell_type": "code",
   "execution_count": null,
   "metadata": {},
   "outputs": [],
   "source": [
    "# tensor_path = input('Enter file path for tensor: ')\n",
    "\n",
    "# with open(tensor_path, 'rb') as f:\n",
    "#     cube = pickle.load(f)"
   ]
  },
  {
   "cell_type": "code",
   "execution_count": 41,
   "metadata": {},
   "outputs": [
    {
     "name": "stderr",
     "output_type": "stream",
     "text": [
      "  5%|▍         | 254/5196 [06:33<10:21,  7.95it/s]   "
     ]
    }
   ],
   "source": [
    "# generate random egonets\n",
    "random_gs = []\n",
    "\n",
    "for i in tqdm(range(N)):\n",
    "    gs_r = np.random.randint(0, 2, size=(N, N))\n",
    "    random_gs.append(gs_r)"
   ]
  },
  {
   "cell_type": "code",
   "execution_count": null,
   "metadata": {},
   "outputs": [],
   "source": [
    "A, B, C = factors\n",
    "\n",
    "decomp = factor_path.split('_')[1]"
   ]
  },
  {
   "cell_type": "code",
   "execution_count": null,
   "metadata": {},
   "outputs": [],
   "source": [
    "errors = []\n",
    "print(\"Calculating Reconstruction Errors...\")\n",
    "for gs in tqdm(padded_gs):\n",
    "    if decomp == 'tkd':\n",
    "        # projection\n",
    "        gs_p = ((A.T @ gs) @ B)\n",
    "        # reconstruction\n",
    "        gs_r = (A @ gs_p @ B.T)\n",
    "    elif decomp == 'cpd':\n",
    "        # projection\n",
    "        gs_p = ((np.linalg.pinv(A) @ gs) @ B)\n",
    "        # reconstruction\n",
    "        gs_r = (A @ gs_p @ np.linalg.pinv(B))\n",
    "    d = np.linalg.norm(gs - gs_p, ord='fro')\n",
    "\n",
    "    # # absolute error\n",
    "    # errors.append(d / np.linalg.norm())\n",
    "\n",
    "    # relative error\n",
    "    errors.append(d / np.linalg.norm(gs, ord='fro'))\n",
    "\n",
    "errors = np.array(errors).reshape(-1, 1)"
   ]
  },
  {
   "cell_type": "code",
   "execution_count": null,
   "metadata": {},
   "outputs": [],
   "source": [
    "random_errors = []\n",
    "print(\"Calculating Reconstruction Errors For Random Graphs...\")\n",
    "for gs in tqdm(random_gs):\n",
    "    if decomp == 'tkd':\n",
    "        # projection\n",
    "        gs_p = ((A.T @ gs) @ B)\n",
    "        # reconstruction\n",
    "        gs_r = (A @ gs_p @ B.T)\n",
    "    elif decomp == 'cpd':\n",
    "        # projection\n",
    "        gs_p = ((np.linalg.pinv(A) @ gs) @ B)\n",
    "        # reconstruction\n",
    "        gs_r = (A @ gs_p @ np.linalg.pinv(B))\n",
    "    d = np.linalg.norm(gs - gs_p, ord='fro')\n",
    "\n",
    "    # # absolute error\n",
    "    # errors.append(d / np.linalg.norm())\n",
    "\n",
    "    # relative error\n",
    "    random_errors.append(d / np.linalg.norm(gs, ord='fro'))\n",
    "\n",
    "random_errors = np.array(errors).reshape(-1, 1)"
   ]
  },
  {
   "cell_type": "code",
   "execution_count": null,
   "metadata": {},
   "outputs": [],
   "source": [
    "dataset = factor_path.split('_')[0]\n",
    "rank = factor_path.split('_')[2]\n",
    "path = f'{dataset}_{decomp}_r{rank}_random.sav'"
   ]
  }
 ],
 "metadata": {
  "kernelspec": {
   "display_name": "Python 3.9.6 ('anom_detect')",
   "language": "python",
   "name": "python3"
  },
  "language_info": {
   "codemirror_mode": {
    "name": "ipython",
    "version": 3
   },
   "file_extension": ".py",
   "mimetype": "text/x-python",
   "name": "python",
   "nbconvert_exporter": "python",
   "pygments_lexer": "ipython3",
   "version": "3.9.6"
  },
  "orig_nbformat": 4,
  "vscode": {
   "interpreter": {
    "hash": "13b2b21ceeb0d6cdc283bf1c7ddabad54f6fedb13073061a08677843d5250697"
   }
  }
 },
 "nbformat": 4,
 "nbformat_minor": 2
}
