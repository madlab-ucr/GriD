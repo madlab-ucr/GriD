{
 "cells": [
  {
   "cell_type": "code",
   "execution_count": 1,
   "id": "3570e819",
   "metadata": {},
   "outputs": [],
   "source": [
    "import torch\n",
    "\n",
    "import networkx as nx\n",
    "\n",
    "import numpy as np\n",
    "    \n",
    "import pandas as pd\n",
    "\n",
    "from tqdm.notebook import tqdm\n",
    "\n",
    "import pickle\n",
    "\n",
    "from tensorly.decomposition import tucker, constrained_parafac\n",
    "\n",
    "import matplotlib.pyplot as plt\n",
    "\n",
    "import scipy.io"
   ]
  },
  {
   "cell_type": "markdown",
   "id": "29eac21a",
   "metadata": {},
   "source": [
    "# Old Tensor Creation Code"
   ]
  },
  {
   "cell_type": "code",
   "execution_count": 4,
   "id": "36e12ff8",
   "metadata": {},
   "outputs": [
    {
     "data": {
      "text/html": [
       "<div>\n",
       "<style scoped>\n",
       "    .dataframe tbody tr th:only-of-type {\n",
       "        vertical-align: middle;\n",
       "    }\n",
       "\n",
       "    .dataframe tbody tr th {\n",
       "        vertical-align: top;\n",
       "    }\n",
       "\n",
       "    .dataframe thead th {\n",
       "        text-align: right;\n",
       "    }\n",
       "</style>\n",
       "<table border=\"1\" class=\"dataframe\">\n",
       "  <thead>\n",
       "    <tr style=\"text-align: right;\">\n",
       "      <th></th>\n",
       "      <th>0</th>\n",
       "      <th>1</th>\n",
       "    </tr>\n",
       "  </thead>\n",
       "  <tbody>\n",
       "    <tr>\n",
       "      <th>0</th>\n",
       "      <td>1</td>\n",
       "      <td>176</td>\n",
       "    </tr>\n",
       "    <tr>\n",
       "      <th>1</th>\n",
       "      <td>1</td>\n",
       "      <td>233</td>\n",
       "    </tr>\n",
       "    <tr>\n",
       "      <th>2</th>\n",
       "      <td>1</td>\n",
       "      <td>283</td>\n",
       "    </tr>\n",
       "    <tr>\n",
       "      <th>3</th>\n",
       "      <td>1</td>\n",
       "      <td>371</td>\n",
       "    </tr>\n",
       "    <tr>\n",
       "      <th>4</th>\n",
       "      <td>1</td>\n",
       "      <td>394</td>\n",
       "    </tr>\n",
       "  </tbody>\n",
       "</table>\n",
       "</div>"
      ],
      "text/plain": [
       "   0    1\n",
       "0  1  176\n",
       "1  1  233\n",
       "2  1  283\n",
       "3  1  371\n",
       "4  1  394"
      ]
     },
     "execution_count": 4,
     "metadata": {},
     "output_type": "execute_result"
    }
   ],
   "source": [
    "df = pd.read_csv('edges.csv', header=None)\n",
    "df.head()"
   ]
  },
  {
   "cell_type": "code",
   "execution_count": 5,
   "id": "b6594a9c",
   "metadata": {},
   "outputs": [],
   "source": [
    "G=nx.from_pandas_edgelist(df, 0, 1).to_undirected()"
   ]
  },
  {
   "cell_type": "code",
   "execution_count": 7,
   "id": "9035d82a",
   "metadata": {},
   "outputs": [
    {
     "data": {
      "text/plain": [
       "'Graph with 10312 nodes and 333983 edges'"
      ]
     },
     "execution_count": 7,
     "metadata": {},
     "output_type": "execute_result"
    }
   ],
   "source": [
    "str(G)"
   ]
  },
  {
   "cell_type": "code",
   "execution_count": 8,
   "id": "23946d51",
   "metadata": {},
   "outputs": [
    {
     "data": {
      "text/plain": [
       "(array([3.934e+03, 2.400e+01, 1.000e+01, 9.000e+00, 0.000e+00, 4.000e+00,\n",
       "        2.000e+00, 3.000e+00, 2.000e+00, 5.000e+00]),\n",
       " array([  0. ,  37.3,  74.6, 111.9, 149.2, 186.5, 223.8, 261.1, 298.4,\n",
       "        335.7, 373. ]),\n",
       " <BarContainer object of 10 artists>)"
      ]
     },
     "execution_count": 8,
     "metadata": {},
     "output_type": "execute_result"
    },
    {
     "data": {
      "image/png": "[encoded data removed]",
      "text/plain": [
       "<Figure size 432x288 with 1 Axes>"
      ]
     },
     "metadata": {
      "needs_background": "light"
     },
     "output_type": "display_data"
    }
   ],
   "source": [
    "plt.hist(nx.degree_histogram(G))"
   ]
  },
  {
   "cell_type": "code",
   "execution_count": 9,
   "id": "099ab06d",
   "metadata": {},
   "outputs": [
    {
     "data": {
      "text/plain": [
       "(array([  0,   1,   2,   3,   4,   5,   6,   7,   8,   9,  10,  11,  12,\n",
       "         13,  14,  15,  16,  17,  18,  19,  20,  21,  22,  24,  25,  26,\n",
       "         27,  29,  30,  31,  32,  34,  36,  37,  38,  39,  41,  42,  43,\n",
       "         46,  48,  49,  54,  58,  59,  60,  61,  62,  66,  68,  71,  75,\n",
       "         80,  87,  89,  90,  93,  94, 108, 114, 115, 121, 131, 136, 137,\n",
       "        143, 144, 145, 193, 195, 199, 219, 225, 228, 270, 277, 287, 310,\n",
       "        322, 352, 354, 368, 371, 373]),\n",
       " array([3417,  236,   75,   39,   33,   22,   11,   12,    7,    7,   11,\n",
       "           5,    6,    4,    3,    3,    3,    3,    3,    3,    1,    1,\n",
       "           6,    4,    1,    3,    5,    1,    1,    2,    2,    1,    2,\n",
       "           1,    1,    1,    2,    1,    3,    1,    2,    1,    2,    1,\n",
       "           2,    1,    1,    1,    1,    1,    2,    2,    1,    1,    1,\n",
       "           1,    2,    1,    1,    1,    1,    1,    1,    1,    1,    1,\n",
       "           1,    1,    1,    1,    1,    1,    1,    1,    1,    1,    1,\n",
       "           1,    1,    1,    1,    1,    1,    1]))"
      ]
     },
     "execution_count": 9,
     "metadata": {},
     "output_type": "execute_result"
    }
   ],
   "source": [
    "np.unique(nx.degree_histogram(G), return_counts=True)"
   ]
  },
  {
   "cell_type": "code",
   "execution_count": 10,
   "id": "1ef65b38",
   "metadata": {},
   "outputs": [],
   "source": [
    "def load_bc_data(G):\n",
    "\n",
    "    G = max((G.subgraph(c) for c in nx.connected_components(G)), key=len)\n",
    "    G = nx.convert_node_labels_to_integers(G)\n",
    "    ego_graphs = []\n",
    "\n",
    "    max_graph = 0\n",
    "\n",
    "    for i in tqdm(range(G.number_of_nodes())):\n",
    "        G_ego = nx.ego_graph(G, i, radius=1)\n",
    "        if G_ego.number_of_nodes() >= 2:\n",
    "            ego_graphs.append(G_ego)\n",
    "            if max_graph < G_ego.number_of_nodes():\n",
    "                max_graph = G_ego.number_of_nodes()\n",
    "\n",
    "    return G, ego_graphs, max_graph\n"
   ]
  },
  {
   "cell_type": "code",
   "execution_count": 11,
   "id": "6cf7e038",
   "metadata": {},
   "outputs": [
    {
     "data": {
      "application/vnd.jupyter.widget-view+json": {
       "model_id": "99d9e673c7af457a897a29e00165545c",
       "version_major": 2,
       "version_minor": 0
      },
      "text/plain": [
       "  0%|          | 0/10312 [00:00<?, ?it/s]"
      ]
     },
     "metadata": {},
     "output_type": "display_data"
    }
   ],
   "source": [
    "_, ego_gs, max_size = load_bc_data(G)"
   ]
  },
  {
   "cell_type": "code",
   "execution_count": 12,
   "id": "bde78698",
   "metadata": {},
   "outputs": [
    {
     "name": "stdout",
     "output_type": "stream",
     "text": [
      "Using 10312 egonets\n"
     ]
    }
   ],
   "source": [
    "print(f'Using {len(ego_gs)} egonets')"
   ]
  },
  {
   "cell_type": "code",
   "execution_count": 13,
   "id": "b239dd48",
   "metadata": {},
   "outputs": [],
   "source": [
    "saved_model = open('egonets.sav', 'wb')\n",
    "pickle.dump(ego_gs, saved_model)\n",
    "saved_model.close()"
   ]
  },
  {
   "cell_type": "code",
   "execution_count": 2,
   "id": "c0cbfbc9",
   "metadata": {},
   "outputs": [],
   "source": [
    "with open('egonets.sav', 'rb') as f:\n",
    "    ego_gs = pickle.load(f)\n",
    "    f.close()"
   ]
  },
  {
   "cell_type": "code",
   "execution_count": 14,
   "id": "627158eb",
   "metadata": {},
   "outputs": [],
   "source": [
    "slice_size = 1000"
   ]
  },
  {
   "cell_type": "code",
   "execution_count": 15,
   "id": "6cb1a7de",
   "metadata": {},
   "outputs": [],
   "source": [
    "cube = torch.empty((1, slice_size, slice_size, slice_size))"
   ]
  },
  {
   "cell_type": "code",
   "execution_count": 16,
   "id": "ee570869",
   "metadata": {},
   "outputs": [
    {
     "data": {
      "application/vnd.jupyter.widget-view+json": {
       "model_id": "781378c326ab497c8ef9a427731576ef",
       "version_major": 2,
       "version_minor": 0
      },
      "text/plain": [
       "  0%|          | 0/1000 [00:00<?, ?it/s]"
      ]
     },
     "metadata": {},
     "output_type": "display_data"
    }
   ],
   "source": [
    "for i in tqdm(range(len(ego_gs[:slice_size]))):\n",
    "    slice_gs = nx.to_numpy_array(ego_gs[i])[:slice_size, :slice_size]\n",
    "    result = np.zeros((len(ego_gs[:slice_size]), len(ego_gs[:slice_size])))\n",
    "    result[:slice_gs.shape[0],:slice_gs.shape[1]] = slice_gs\n",
    "    \n",
    "    ten = torch.as_tensor(result)\n",
    "    dim = ten.shape[0]\n",
    "    cube[0, :dim, :dim, i] = ten"
   ]
  },
  {
   "cell_type": "code",
   "execution_count": 17,
   "id": "e5e17129",
   "metadata": {},
   "outputs": [],
   "source": [
    "saved_model = open('clean_tensor_sep.sav', 'wb')\n",
    "pickle.dump(cube, saved_model)\n",
    "saved_model.close()"
   ]
  },
  {
   "cell_type": "code",
   "execution_count": 40,
   "id": "bc6e079f",
   "metadata": {},
   "outputs": [],
   "source": [
    "# with open('clean_tensor.sav', 'rb') as f:\n",
    "#     cube = pickle.load(f)\n",
    "#     f.close()"
   ]
  },
  {
   "cell_type": "code",
   "execution_count": 18,
   "id": "4d672176",
   "metadata": {},
   "outputs": [
    {
     "name": "stderr",
     "output_type": "stream",
     "text": [
      "/Users/zubairqazi/miniconda3/envs/anom_detect/lib/python3.9/site-packages/tensorly/tucker_tensor.py:380: RuntimeWarning: Given only one int for 'rank' for decomposition a tensor of order 3. Using this rank for all modes.\n",
      "  warnings.warn(message, RuntimeWarning)\n"
     ]
    }
   ],
   "source": [
    "result = tucker(cube[0].numpy(), rank=10)"
   ]
  },
  {
   "cell_type": "code",
   "execution_count": 19,
   "id": "99b89f0e",
   "metadata": {},
   "outputs": [],
   "source": [
    "saved_model = open('decomp.sav', 'wb')\n",
    "pickle.dump(result, saved_model)\n",
    "saved_model.close()"
   ]
  },
  {
   "cell_type": "code",
   "execution_count": 3,
   "id": "484b603e",
   "metadata": {},
   "outputs": [],
   "source": [
    "with open('decomp.sav', 'rb') as f:\n",
    "    result = pickle.load(f)\n",
    "    f.close()"
   ]
  },
  {
   "cell_type": "code",
   "execution_count": 18,
   "id": "207c7825",
   "metadata": {},
   "outputs": [],
   "source": [
    "core, factors = result"
   ]
  },
  {
   "cell_type": "markdown",
   "id": "448803f1",
   "metadata": {},
   "source": [
    "# Building Clean Tensor with Anomalous data\n",
    "Using original data (blogcatalog.mat) to create \"clean\" tensor"
   ]
  },
  {
   "cell_type": "code",
   "execution_count": 2,
   "id": "7630110a",
   "metadata": {},
   "outputs": [],
   "source": [
    "def load_bc_data():\n",
    "    \n",
    "    bc_data = scipy.io.loadmat(\"datasets/blogcatalog.mat\")\n",
    "\n",
    "    G = nx.from_scipy_sparse_array(bc_data[\"Network\"])\n",
    "    # nx.set_node_attributes(G, bc_data[\"Attributes\"], 'Attributes')\n",
    "    print(str(G))\n",
    "\n",
    "    # convert list of lists to list\n",
    "    labels = [j for i in bc_data[\"Label\"] for j in i]\n",
    "\n",
    "    # Add labels to each node\n",
    "    for i in range(len(G.nodes)):\n",
    "        G.nodes[i]['Anomaly'] = labels[i]\n",
    "\n",
    "    G = max((G.subgraph(c) for c in nx.connected_components(G)), key=len)\n",
    "    G = nx.convert_node_labels_to_integers(G)\n",
    "    ego_gs, roots = [], []\n",
    "\n",
    "    for i in tqdm(range(G.number_of_nodes())):\n",
    "        roots.append(G.nodes[i]['Anomaly'])\n",
    "        G_ego = nx.ego_graph(G, i, radius=1)\n",
    "        if G_ego.number_of_nodes() >= 2:\n",
    "            ego_gs.append(G_ego)\n",
    "\n",
    "    return G, ego_gs, roots"
   ]
  },
  {
   "cell_type": "code",
   "execution_count": 3,
   "id": "01fa7b93",
   "metadata": {
    "scrolled": false
   },
   "outputs": [
    {
     "name": "stdout",
     "output_type": "stream",
     "text": [
      "Graph with 5196 nodes and 172897 edges\n"
     ]
    },
    {
     "data": {
      "application/vnd.jupyter.widget-view+json": {
       "model_id": "2d6851100caf45a790139c8b79d4f65d",
       "version_major": 2,
       "version_minor": 0
      },
      "text/plain": [
       "  0%|          | 0/5196 [00:00<?, ?it/s]"
      ]
     },
     "metadata": {},
     "output_type": "display_data"
    }
   ],
   "source": [
    "G, ego_gs, roots = load_bc_data()\n",
    "\n",
    "roots = [int(r) for r in roots]"
   ]
  },
  {
   "cell_type": "code",
   "execution_count": 4,
   "id": "9ff3cf7e",
   "metadata": {},
   "outputs": [
    {
     "data": {
      "application/vnd.jupyter.widget-view+json": {
       "model_id": "db76723229d649eeb338cf7a7d2e86c1",
       "version_major": 2,
       "version_minor": 0
      },
      "text/plain": [
       "  0%|          | 0/5196 [00:00<?, ?it/s]"
      ]
     },
     "metadata": {},
     "output_type": "display_data"
    },
    {
     "name": "stdout",
     "output_type": "stream",
     "text": [
      "# of anomalous graphs: 298/5196\n",
      "# of clean graphs: 4898/5196\n"
     ]
    }
   ],
   "source": [
    "anom_gs, clean_gs = [], []\n",
    "for idx, root_attr in enumerate(tqdm(roots)):\n",
    "    if root_attr == 1:\n",
    "        anom_gs.append(ego_gs[idx])\n",
    "    else:\n",
    "        clean_gs.append(ego_gs[idx])\n",
    "        \n",
    "print(f'# of anomalous graphs: {len(anom_gs)}/{len(ego_gs)}')\n",
    "print(f'# of clean graphs: {len(clean_gs)}/{len(ego_gs)}')"
   ]
  },
  {
   "cell_type": "code",
   "execution_count": 5,
   "id": "1deabc2e",
   "metadata": {},
   "outputs": [],
   "source": [
    "slice_size = 1000\n",
    "cube = torch.empty((1, slice_size, slice_size, slice_size))"
   ]
  },
  {
   "cell_type": "code",
   "execution_count": 6,
   "id": "64ce79f6",
   "metadata": {},
   "outputs": [
    {
     "data": {
      "application/vnd.jupyter.widget-view+json": {
       "model_id": "73fff81a1c3141a0812a35af9ba298d8",
       "version_major": 2,
       "version_minor": 0
      },
      "text/plain": [
       "  0%|          | 0/1000 [00:00<?, ?it/s]"
      ]
     },
     "metadata": {},
     "output_type": "display_data"
    }
   ],
   "source": [
    "for i in tqdm(range(len(clean_gs[:slice_size]))):\n",
    "    slice_gs = nx.to_numpy_array(ego_gs[i])[:slice_size, :slice_size]\n",
    "    result = np.zeros((len(ego_gs[:slice_size]), len(ego_gs[:slice_size])))\n",
    "    result[:slice_gs.shape[0],:slice_gs.shape[1]] = slice_gs\n",
    "    \n",
    "    ten = torch.as_tensor(result)\n",
    "    dim = ten.shape[0]\n",
    "    cube[0, :dim, :dim, i] = ten"
   ]
  },
  {
   "cell_type": "code",
   "execution_count": 9,
   "id": "8089af80",
   "metadata": {},
   "outputs": [],
   "source": [
    "saved_model = open('cl_tens_mod.sav', 'wb')\n",
    "pickle.dump(cube, saved_model)\n",
    "saved_model.close()"
   ]
  },
  {
   "cell_type": "code",
   "execution_count": 10,
   "id": "cdf3414b",
   "metadata": {
    "scrolled": true
   },
   "outputs": [
    {
     "name": "stderr",
     "output_type": "stream",
     "text": [
      "/Users/zubairqazi/miniconda3/envs/anom_detect/lib/python3.9/site-packages/tensorly/tucker_tensor.py:380: RuntimeWarning: Given only one int for 'rank' for decomposition a tensor of order 3. Using this rank for all modes.\n",
      "  warnings.warn(message, RuntimeWarning)\n"
     ]
    }
   ],
   "source": [
    "# tucker decomposition\n",
    "\n",
    "result = tucker(cube[0].numpy(), rank=30)"
   ]
  },
  {
   "cell_type": "code",
   "execution_count": null,
   "id": "f861fb5e",
   "metadata": {},
   "outputs": [],
   "source": [
    "saved_model = open('tk_decomp_mod.sav', 'wb')\n",
    "pickle.dump(result, saved_model)\n",
    "saved_model.close()"
   ]
  },
  {
   "cell_type": "code",
   "execution_count": 18,
   "id": "8c0515ae",
   "metadata": {},
   "outputs": [],
   "source": [
    "weight, factors = constrained_parafac(cube[0].numpy(), rank=1)"
   ]
  },
  {
   "cell_type": "code",
   "execution_count": 15,
   "id": "c3b6898a",
   "metadata": {},
   "outputs": [],
   "source": [
    "saved_model = open('bc_cpd_r50.sav', 'wb')\n",
    "pickle.dump(factors, saved_model)\n",
    "saved_model.close()"
   ]
  },
  {
   "cell_type": "code",
   "execution_count": null,
   "id": "635f4e3a",
   "metadata": {},
   "outputs": [],
   "source": [
    "# check 0 degree in data\n",
    "# check all nodes vs. root node for anomaly\n",
    "# create tensor with modified data\n",
    "# pipeline\n",
    "# higher ranks / 2 means clustering\n",
    "# clean egonet error from original tensor\n",
    "# identity instead of padding with 0s\n",
    "# random graph sampling"
   ]
  },
  {
   "cell_type": "markdown",
   "id": "049e6505",
   "metadata": {},
   "source": [
    "## Storing decompositions at ranks"
   ]
  },
  {
   "cell_type": "code",
   "execution_count": 8,
   "id": "f63d12f8",
   "metadata": {},
   "outputs": [],
   "source": [
    "with open('cl_tens_mod.sav', 'rb') as f:\n",
    "    cube = pickle.load(f)\n",
    "    f.close()"
   ]
  },
  {
   "cell_type": "code",
   "execution_count": 10,
   "id": "b2fc6edb",
   "metadata": {},
   "outputs": [
    {
     "name": "stdout",
     "output_type": "stream",
     "text": [
      "Calculating decomposition w/ rank 10...\n"
     ]
    },
    {
     "name": "stderr",
     "output_type": "stream",
     "text": [
      "/Users/zubairqazi/miniconda3/envs/anom_detect/lib/python3.9/site-packages/tensorly/tucker_tensor.py:380: RuntimeWarning: Given only one int for 'rank' for decomposition a tensor of order 3. Using this rank for all modes.\n",
      "  warnings.warn(message, RuntimeWarning)\n"
     ]
    },
    {
     "name": "stdout",
     "output_type": "stream",
     "text": [
      "Calculating decomposition w/ rank 20...\n",
      "Calculating decomposition w/ rank 30...\n"
     ]
    }
   ],
   "source": [
    "print('Calculating decomposition w/ rank 10...')\n",
    "\n",
    "result = tucker(cube[0].numpy(), rank=10)\n",
    "\n",
    "saved_model = open('decomp_rank_10.sav', 'wb')\n",
    "pickle.dump(result, saved_model)\n",
    "saved_model.close()\n",
    "\n",
    "\n",
    "print('Calculating decomposition w/ rank 20...')\n",
    "\n",
    "result = tucker(cube[0].numpy(), rank=20)\n",
    "\n",
    "saved_model = open('decomp_rank_20.sav', 'wb')\n",
    "pickle.dump(result, saved_model)\n",
    "saved_model.close()\n",
    "\n",
    "print('Calculating decomposition w/ rank 30...')\n",
    "\n",
    "result = tucker(cube[0].numpy(), rank=30)\n",
    "\n",
    "saved_model = open('decomp_rank_30.sav', 'wb')\n",
    "pickle.dump(result, saved_model)\n",
    "saved_model.close()"
   ]
  },
  {
   "cell_type": "markdown",
   "id": "c9c3914f",
   "metadata": {},
   "source": [
    "# CP Decomposition"
   ]
  },
  {
   "cell_type": "code",
   "execution_count": null,
   "id": "644a6e77",
   "metadata": {},
   "outputs": [],
   "source": []
  }
 ],
 "metadata": {
  "kernelspec": {
   "display_name": "Python 3 (ipykernel)",
   "language": "python",
   "name": "python3"
  },
  "language_info": {
   "codemirror_mode": {
    "name": "ipython",
    "version": 3
   },
   "file_extension": ".py",
   "mimetype": "text/x-python",
   "name": "python",
   "nbconvert_exporter": "python",
   "pygments_lexer": "ipython3",
   "version": "3.9.12"
  }
 },
 "nbformat": 4,
 "nbformat_minor": 5
}
