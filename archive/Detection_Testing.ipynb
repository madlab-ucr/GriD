{
 "cells": [
  {
   "cell_type": "code",
   "execution_count": 1,
   "id": "a3d0d274",
   "metadata": {
    "scrolled": true
   },
   "outputs": [
    {
     "name": "stderr",
     "output_type": "stream",
     "text": [
      "<frozen importlib._bootstrap>:228: RuntimeWarning: scipy._lib.messagestream.MessageStream size changed, may indicate binary incompatibility. Expected 56 from C header, got 64 from PyObject\n"
     ]
    }
   ],
   "source": [
    "import torch\n",
    "\n",
    "import networkx as nx\n",
    "\n",
    "import numpy as np\n",
    "    \n",
    "import pandas as pd\n",
    "\n",
    "import scipy.io\n",
    "\n",
    "from itertools import combinations as comb\n",
    "\n",
    "from tqdm.notebook import tqdm\n",
    "\n",
    "import pickle\n",
    "\n",
    "import matplotlib.pyplot as plt\n",
    "\n",
    "# from imblearn.over_sampling import RandomOverSampler\n",
    "\n",
    "import seaborn as sns\n",
    "\n",
    "from sklearn.cluster import KMeans, MiniBatchKMeans\n",
    "from sklearn.metrics import f1_score, classification_report, roc_auc_score, roc_curve\n",
    "from sklearn.model_selection import GridSearchCV, cross_val_score\n",
    "from sklearn.svm import OneClassSVM\n",
    "from sklearn.neighbors import LocalOutlierFactor\n",
    "\n",
    "from numpy.linalg import pinv\n",
    "\n",
    "from tensorly.decomposition import tucker, constrained_parafac"
   ]
  },
  {
   "cell_type": "code",
   "execution_count": 2,
   "id": "02fc874b",
   "metadata": {},
   "outputs": [],
   "source": [
    "def load_network(path):\n",
    "    \n",
    "    try:\n",
    "        data = scipy.io.loadmat(path)\n",
    "    except:\n",
    "        print('Invalid data path')\n",
    "\n",
    "    G = nx.from_scipy_sparse_array(data[\"Network\"])\n",
    "    # nx.set_node_attributes(G, bc_data[\"Attributes\"], 'Attributes')\n",
    "    print(str(G))\n",
    "\n",
    "    # convert list of lists to list\n",
    "    labels = [j for i in data[\"Label\"] for j in i]\n",
    "\n",
    "    # Add labels to each node\n",
    "    for i in range(len(G.nodes)):\n",
    "        G.nodes[i]['Anomaly'] = labels[i]\n",
    "\n",
    "    G = max((G.subgraph(c) for c in nx.connected_components(G)), key=len)\n",
    "    G = nx.convert_node_labels_to_integers(G)\n",
    "    ego_gs, roots = [], []\n",
    "\n",
    "    if len(labels) != G.number_of_nodes():\n",
    "        labels = list(nx.get_node_attributes(G, 'Anomaly').values())\n",
    "\n",
    "    for i in tqdm(range(G.number_of_nodes())):\n",
    "        roots.append(G.nodes[i]['Anomaly'])\n",
    "        G_ego = nx.ego_graph(G, i, radius=1)\n",
    "        if G_ego.number_of_nodes() >= 2:\n",
    "            ego_gs.append(G_ego)\n",
    "        # else:\n",
    "        #     # label is out of consideration\n",
    "        #     print(\"yes\")\n",
    "        #     del labels[i]\n",
    "\n",
    "    return G, ego_gs, roots, labels"
   ]
  },
  {
   "cell_type": "code",
   "execution_count": 3,
   "id": "3f4da746",
   "metadata": {},
   "outputs": [
    {
     "name": "stdout",
     "output_type": "stream",
     "text": [
      "Graph with 5196 nodes and 172897 edges\n"
     ]
    },
    {
     "data": {
      "application/vnd.jupyter.widget-view+json": {
       "model_id": "8b26dd0702374fe5b538b8c2ff3f4485",
       "version_major": 2,
       "version_minor": 0
      },
      "text/plain": [
       "  0%|          | 0/5196 [00:00<?, ?it/s]"
      ]
     },
     "metadata": {},
     "output_type": "display_data"
    },
    {
     "name": "stdout",
     "output_type": "stream",
     "text": [
      "Using 5196 egonets\n"
     ]
    }
   ],
   "source": [
    "G, ego_gs, labels, roots = load_network('datasets/blogcatalog.mat')\n",
    "\n",
    "labels = [int(l) for l in labels]\n",
    "\n",
    "print(f'Using {len(ego_gs)} egonets')"
   ]
  },
  {
   "cell_type": "code",
   "execution_count": 5,
   "id": "b7b91b71",
   "metadata": {},
   "outputs": [
    {
     "name": "stdout",
     "output_type": "stream",
     "text": [
      "1: anomalous egonet ==> anomalous root\n",
      "2: anomalous egonet ==> any anomalous node\n",
      "Anomalous definition: 2\n"
     ]
    },
    {
     "data": {
      "application/vnd.jupyter.widget-view+json": {
       "model_id": "f57c921c928343ae89609b93201c17c0",
       "version_major": 2,
       "version_minor": 0
      },
      "text/plain": [
       "  0%|          | 0/5196 [00:00<?, ?it/s]"
      ]
     },
     "metadata": {},
     "output_type": "display_data"
    },
    {
     "data": {
      "application/vnd.jupyter.widget-view+json": {
       "model_id": "51fbbc731de14c1ebdf7872a3e2b3029",
       "version_major": 2,
       "version_minor": 0
      },
      "text/plain": [
       "  0%|          | 0/5196 [00:00<?, ?it/s]"
      ]
     },
     "metadata": {},
     "output_type": "display_data"
    },
    {
     "name": "stdout",
     "output_type": "stream",
     "text": [
      "# of anomalous graphs: 4720/5196\n",
      "# of clean graphs: 476/5196\n"
     ]
    }
   ],
   "source": [
    "# 1: anomalous egonet ==> anomalous root\n",
    "# 2: anomalous egonet ==> any anomalous node\n",
    "\n",
    "print('1: anomalous egonet ==> anomalous root')\n",
    "print('2: anomalous egonet ==> any anomalous node')\n",
    "\n",
    "anom_def = int(input('Anomalous definition: '))\n",
    "\n",
    "anom_gs, clean_gs = [], []\n",
    "community_labels = []\n",
    "anom_scores = dict()\n",
    "\n",
    "for idx, g in enumerate(tqdm(ego_gs)):\n",
    "    anom_scores[idx] = []\n",
    "\n",
    "if anom_def == 1:\n",
    "    for idx, root_attr in enumerate(tqdm(labels)):\n",
    "        if root_attr == 1:\n",
    "            anom_gs.append(ego_gs[idx])\n",
    "            community_labels.append(1)\n",
    "        else:\n",
    "            clean_gs.append(ego_gs[idx])\n",
    "            community_labels.append(0)\n",
    "elif anom_def == 2:\n",
    "    for idx, g in enumerate(tqdm(ego_gs)):\n",
    "        # check if root is anomalous first\n",
    "        label = -1\n",
    "        if is_anomolous(g):\n",
    "            anom_gs.append(g)\n",
    "            label = 1\n",
    "        else:\n",
    "            clean_gs.append(g)\n",
    "            label = 0\n",
    "        \n",
    "        community_labels.append(label)\n",
    "        \n",
    "        for node in g:\n",
    "            anom_scores[node].append(label)\n",
    "        \n",
    "print(f'# of anomalous graphs: {len(anom_gs)}/{len(ego_gs)}')\n",
    "print(f'# of clean graphs: {len(clean_gs)}/{len(ego_gs)}')"
   ]
  },
  {
   "cell_type": "code",
   "execution_count": 6,
   "id": "0c464c30",
   "metadata": {},
   "outputs": [
    {
     "name": "stdout",
     "output_type": "stream",
     "text": [
      "0\n",
      "No error\n"
     ]
    }
   ],
   "source": [
    "test = []\n",
    "for idx, key in enumerate(anom_scores):\n",
    "    test.append(len(anom_scores[key]) != ego_gs[idx].number_of_nodes())\n",
    "\n",
    "print(sum(test))\n",
    "if sum(test) == 0:\n",
    "    print('No error')"
   ]
  },
  {
   "cell_type": "code",
   "execution_count": 8,
   "id": "30ce2cde",
   "metadata": {},
   "outputs": [
    {
     "name": "stdout",
     "output_type": "stream",
     "text": [
      "Input a slice size for tensor: 1000\n",
      "Enter seed: 10\n"
     ]
    }
   ],
   "source": [
    "slice_size = int(input(\"Input a slice size for tensor: \"))\n",
    "seed = int(input('Enter seed: '))"
   ]
  },
  {
   "cell_type": "code",
   "execution_count": 52,
   "id": "2a3bd8f9",
   "metadata": {},
   "outputs": [
    {
     "name": "stdout",
     "output_type": "stream",
     "text": [
      "Enter seed: 10\n"
     ]
    },
    {
     "name": "stderr",
     "output_type": "stream",
     "text": [
      "/var/folders/80/w14y6f9s2_g49cyn7jpfhrfh0000gn/T/ipykernel_7756/53671044.py:6: VisibleDeprecationWarning: Creating an ndarray from ragged nested sequences (which is a list-or-tuple of lists-or-tuples-or ndarrays with different lengths or shapes) is deprecated. If you meant to do this, you must specify 'dtype=object' when creating the ndarray.\n",
      "  sampled_gs = np.random.choice(ego_gs, size=slice_size, replace=True)\n"
     ]
    },
    {
     "data": {
      "application/vnd.jupyter.widget-view+json": {
       "model_id": "6ad654df710148169ef5978a40b81fa1",
       "version_major": 2,
       "version_minor": 0
      },
      "text/plain": [
       "  0%|          | 0/1000 [00:00<?, ?it/s]"
      ]
     },
     "metadata": {},
     "output_type": "display_data"
    }
   ],
   "source": [
    "cube = torch.empty((1, slice_size, slice_size, slice_size))\n",
    "\n",
    "# select n random egonets\n",
    "np.random.seed(seed)\n",
    "sampled_gs = np.random.choice(ego_gs, size=slice_size, replace=True)\n",
    "\n",
    "for i in tqdm(range(len(sampled_gs))):\n",
    "    slice_gs = nx.to_numpy_array(sampled_gs[i])[:slice_size, :slice_size]\n",
    "    result = np.zeros((slice_size, slice_size))\n",
    "    result[:slice_gs.shape[0],:slice_gs.shape[1]] = slice_gs\n",
    "    \n",
    "    ten = torch.as_tensor(result)\n",
    "    dim = ten.shape[0]\n",
    "    cube[0, :dim, :dim, i] = ten\n",
    "\n",
    "# for i in tqdm(range(len(clean_gs[:slice_size]))):\n",
    "#     slice_gs = nx.to_numpy_array(clean_gs[i])[:slice_size, :slice_size]\n",
    "#     result = np.zeros((slice_size, slice_size))\n",
    "#     result[:slice_gs.shape[0],:slice_gs.shape[1]] = slice_gs\n",
    "    \n",
    "#     ten = torch.as_tensor(result)\n",
    "#     dim = ten.shape[0]\n",
    "#     cube[0, :dim, :dim, i] = ten"
   ]
  },
  {
   "cell_type": "code",
   "execution_count": 9,
   "id": "e0c1c878",
   "metadata": {},
   "outputs": [
    {
     "data": {
      "application/vnd.jupyter.widget-view+json": {
       "model_id": "fd1a9b3f47ca46a9b70703dc5b91e529",
       "version_major": 2,
       "version_minor": 0
      },
      "text/plain": [
       "  0%|          | 0/4720 [00:00<?, ?it/s]"
      ]
     },
     "metadata": {},
     "output_type": "display_data"
    },
    {
     "data": {
      "application/vnd.jupyter.widget-view+json": {
       "model_id": "e15404327a9641929b7d8ba9c1ddcbef",
       "version_major": 2,
       "version_minor": 0
      },
      "text/plain": [
       "  0%|          | 0/476 [00:00<?, ?it/s]"
      ]
     },
     "metadata": {},
     "output_type": "display_data"
    }
   ],
   "source": [
    "# padding adjacency matrices\n",
    "padded_anom = []\n",
    "for gs in tqdm(anom_gs):\n",
    "    g = nx.to_numpy_array(gs)\n",
    "    padded = np.zeros((slice_size, slice_size))\n",
    "    # add 1s to diagonal\n",
    "    for idx, row in enumerate(padded):\n",
    "        row[idx] = 1\n",
    "    if len(padded) >= len(g):\n",
    "        padded[:g.shape[0], :g.shape[1]] = g\n",
    "    else:\n",
    "        padded = g[:slice_size, :slice_size]\n",
    "    padded_anom.append(padded)\n",
    "    \n",
    "padded_clean = []\n",
    "for gs in tqdm(clean_gs):\n",
    "    g = nx.to_numpy_array(gs)\n",
    "    padded = np.zeros((slice_size, slice_size))\n",
    "    # add 1s to diagonal\n",
    "    for idx, row in enumerate(padded):\n",
    "        row[idx] = 1\n",
    "    if len(padded) >= len(g):\n",
    "        padded[:g.shape[0], :g.shape[1]] = g\n",
    "    else:\n",
    "        padded = g[:slice_size, :slice_size]\n",
    "    padded_clean.append(padded)"
   ]
  },
  {
   "cell_type": "code",
   "execution_count": 57,
   "id": "e6e62f9c",
   "metadata": {},
   "outputs": [
    {
     "name": "stderr",
     "output_type": "stream",
     "text": [
      "/Users/zubairqazi/miniconda3/envs/anom_detect/lib/python3.9/site-packages/tensorly/tucker_tensor.py:380: RuntimeWarning: Given only one int for 'rank' for decomposition a tensor of order 3. Using this rank for all modes.\n",
      "  warnings.warn(message, RuntimeWarning)\n"
     ]
    }
   ],
   "source": [
    "_, factors = tucker(cube[0].numpy(), rank=10)"
   ]
  },
  {
   "cell_type": "code",
   "execution_count": 58,
   "id": "a9117e48",
   "metadata": {},
   "outputs": [],
   "source": [
    "saved_model = open(f'bc_tkd_r10_seed{seed}.sav', 'wb')\n",
    "pickle.dump(factors, saved_model)\n",
    "saved_model.close()"
   ]
  },
  {
   "cell_type": "code",
   "execution_count": 4,
   "id": "5558dad3",
   "metadata": {},
   "outputs": [
    {
     "name": "stdout",
     "output_type": "stream",
     "text": [
      "Seed: 10\n"
     ]
    }
   ],
   "source": [
    "seed = int(input('Seed: '))\n",
    "with open(f'bc_tkd_r10_seed{seed}.sav', 'rb') as f:\n",
    "    factors = pickle.load(f)\n",
    "    f.close()"
   ]
  },
  {
   "cell_type": "code",
   "execution_count": 59,
   "id": "80ac4a15",
   "metadata": {},
   "outputs": [
    {
     "data": {
      "application/vnd.jupyter.widget-view+json": {
       "model_id": "383180a392da4f35b1aa475a0077f208",
       "version_major": 2,
       "version_minor": 0
      },
      "text/plain": [
       "  0%|          | 0/298 [00:00<?, ?it/s]"
      ]
     },
     "metadata": {},
     "output_type": "display_data"
    },
    {
     "data": {
      "application/vnd.jupyter.widget-view+json": {
       "model_id": "9ceaf1f228ab457b95e139b450d4ada9",
       "version_major": 2,
       "version_minor": 0
      },
      "text/plain": [
       "  0%|          | 0/4898 [00:00<?, ?it/s]"
      ]
     },
     "metadata": {},
     "output_type": "display_data"
    }
   ],
   "source": [
    "A, B, C = factors\n",
    "A, B, C, = np.array(A), np.array(B), np.array(C)\n",
    "\n",
    "results_anom = []\n",
    "for gs in tqdm(padded_anom):\n",
    "    gs_p = (A @ ((A.T @ gs) @ B) @ B.T)\n",
    "    d = np.linalg.norm(gs - gs_p)\n",
    "    results_anom.append(d)\n",
    "\n",
    "results_clean = []\n",
    "for gs in tqdm(padded_clean):\n",
    "    gs_p = (A @ ((A.T @ gs) @ B) @ B.T)\n",
    "    d = np.linalg.norm(gs - gs_p)\n",
    "    results_clean.append(d)"
   ]
  },
  {
   "cell_type": "code",
   "execution_count": 60,
   "id": "90b22ba7",
   "metadata": {},
   "outputs": [
    {
     "data": {
      "text/plain": [
       "<matplotlib.collections.PathCollection at 0x7faed992b040>"
      ]
     },
     "execution_count": 60,
     "metadata": {},
     "output_type": "execute_result"
    },
    {
     "data": {
      "image/png": "[encoded data removed]",
      "text/plain": [
       "<Figure size 432x288 with 1 Axes>"
      ]
     },
     "metadata": {
      "needs_background": "light"
     },
     "output_type": "display_data"
    }
   ],
   "source": [
    "anom_y = np.zeros(len(anom_gs))\n",
    "clean_y = np.zeros(len(clean_gs))\n",
    "\n",
    "sns.scatterplot(x=results_anom, y=[0] * len(anom_y), marker='x')\n",
    "sns.scatterplot(x=results_clean, y=[1] * len(clean_y), marker='o')\n",
    "plt.scatter([np.median(results_anom)], 0, c='red')\n",
    "plt.scatter([np.median(results_clean)], 1, c='blue')"
   ]
  },
  {
   "cell_type": "code",
   "execution_count": 91,
   "id": "a9ea240b",
   "metadata": {},
   "outputs": [
    {
     "data": {
      "text/plain": [
       "<AxesSubplot:ylabel='Count'>"
      ]
     },
     "execution_count": 91,
     "metadata": {},
     "output_type": "execute_result"
    },
    {
     "data": {
      "image/png": "[encoded data removed]",
      "text/plain": [
       "<Figure size 432x288 with 1 Axes>"
      ]
     },
     "metadata": {
      "needs_background": "light"
     },
     "output_type": "display_data"
    }
   ],
   "source": [
    "sns.histplot(results_anom)\n",
    "sns.histplot(results_clean, ax=plt.gca())"
   ]
  },
  {
   "cell_type": "code",
   "execution_count": 61,
   "id": "5b6abed0",
   "metadata": {},
   "outputs": [],
   "source": [
    "results = np.column_stack((np.array(results_clean + results_anom), np.zeros(len(ego_gs))))"
   ]
  },
  {
   "cell_type": "code",
   "execution_count": 62,
   "id": "8f1708c3",
   "metadata": {},
   "outputs": [],
   "source": [
    "labels = []\n",
    "labels +=  [0] * len(results_clean) + [1] * len(results_anom)"
   ]
  },
  {
   "cell_type": "markdown",
   "id": "64c09031",
   "metadata": {},
   "source": [
    "# pyOD\n",
    "\n",
    "https://pyod.readthedocs.io/en/latest/index.html"
   ]
  },
  {
   "cell_type": "code",
   "execution_count": 63,
   "id": "33d2f3dc",
   "metadata": {},
   "outputs": [],
   "source": [
    "from pyod.models.suod import SUOD\n",
    "from pyod.models.auto_encoder import AutoEncoder\n",
    "from pyod.models.anogan import AnoGAN\n",
    "from pyod.models.cblof import CBLOF\n",
    "from pyod.models.deep_svdd import DeepSVDD\n",
    "from pyod.models.iforest import IForest\n",
    "from pyod.models.lof import LOF\n",
    "from pyod.models.cof import COF\n",
    "from pyod.models.gmm import GMM\n",
    "from pyod.models.hbos import HBOS\n",
    "from pyod.models.inne import INNE\n",
    "from pyod.models.copod import COPOD\n",
    "from pyod.models.knn import KNN\n",
    "from pyod.models.lmdd import LMDD\n",
    "from pyod.models.ocsvm import OCSVM\n",
    "from pyod.models.mad import MAD\n",
    "from pyod.models.pca import PCA\n",
    "from pyod.models.so_gaal import SO_GAAL\n",
    "from pyod.models.xgbod import XGBOD\n",
    "from pyod.models.kde import KDE\n",
    "\n",
    "from pyod.utils.data import evaluate_print\n",
    "from pyod.utils.example import visualize\n",
    "\n",
    "import torch\n",
    "from torch.nn import MSELoss"
   ]
  },
  {
   "cell_type": "code",
   "execution_count": 64,
   "id": "d261f35e",
   "metadata": {},
   "outputs": [],
   "source": [
    "from sklearn.model_selection import train_test_split\n",
    "\n",
    "X_train, X_test, y_train, y_test = train_test_split(results, labels, test_size=0.33, random_state=42)"
   ]
  },
  {
   "cell_type": "code",
   "execution_count": null,
   "id": "f775405a",
   "metadata": {},
   "outputs": [],
   "source": [
    "# # DeepSVDD(), DeepSVDD(use_ae=True), AnoGAN(), AutoEncoder()\n",
    "# detector_list = [\n",
    "#     LOF(n_neighbors=20), \n",
    "#     IForest(n_estimators=100), \n",
    "#     # GMM(), \n",
    "#     # KNN(), \n",
    "#     # HBOS(), \n",
    "#     # INNE(), \n",
    "#     # COPOD(), \n",
    "#     # LOF(),\n",
    "# ]\n",
    "\n",
    "# # decide the number of parallel process, and the combination method\n",
    "# # then clf can be used as any outlier detection model\n",
    "# clf = SUOD(base_estimators=detector_list, n_jobs=2, combination='average',\n",
    "#            verbose=False)\n",
    "\n",
    "# clf.fit(X_train, y_train)"
   ]
  },
  {
   "cell_type": "code",
   "execution_count": null,
   "id": "bb0a33af",
   "metadata": {},
   "outputs": [],
   "source": [
    "# # get the prediction labels and outlier scores of the training data\n",
    "# y_train_pred = clf.labels_  # binary labels (0: inliers, 1: outliers)\n",
    "# y_train_scores = clf.decision_scores_  # raw outlier scores\n",
    "\n",
    "# # get the prediction on the test data\n",
    "# y_test_pred = clf.predict(X_test)  # outlier labels (0 or 1)\n",
    "# y_test_scores = clf.decision_function(X_test)  # outlier scores\n",
    "\n",
    "# # evaluate and print the results\n",
    "# print(\"\\nOn Training Data:\")\n",
    "# evaluate_print('SUOD', y_train, y_train_scores)\n",
    "# print(\"\\nOn Test Data:\")\n",
    "# evaluate_print('SUOD', y_test, y_test_scores)\n",
    "\n",
    "# # visualize the results\n",
    "# visualize('SUOD', X_train, y_train, X_test, y_test, y_train_pred,\n",
    "#           y_test_pred, show_figure=True, save_figure=False)"
   ]
  },
  {
   "cell_type": "markdown",
   "id": "f75de6e0",
   "metadata": {},
   "source": [
    "# XGBOD"
   ]
  },
  {
   "cell_type": "code",
   "execution_count": 65,
   "id": "3e9e8d73",
   "metadata": {},
   "outputs": [
    {
     "name": "stdout",
     "output_type": "stream",
     "text": [
      "[15:58:58] WARNING: /Users/runner/miniforge3/conda-bld/xgboost-split_1645117948562/work/src/learner.cc:576: \n",
      "Parameters: { \"silent\" } might not be used.\n",
      "\n",
      "  This could be a false alarm, with some parameters getting used by language bindings but\n",
      "  then being mistakenly passed down to XGBoost core, or some parameter actually being used\n",
      "  but getting flagged wrongly here. Please open an issue if you find any such cases.\n",
      "\n",
      "\n",
      "[15:58:58] WARNING: /Users/runner/miniforge3/conda-bld/xgboost-split_1645117948562/work/src/learner.cc:1115: Starting in XGBoost 1.3.0, the default evaluation metric used with the objective 'binary:logistic' was changed from 'error' to 'logloss'. Explicitly set eval_metric if you'd like to restore the old behavior.\n",
      "\n",
      "On Training Data:\n",
      "XGBOD ROC:0.7957, precision @ rank n:0.3298\n",
      "\n",
      "On Test Data:\n",
      "XGBOD ROC:0.6351, precision @ rank n:0.1087\n"
     ]
    },
    {
     "data": {
      "image/png": "[encoded data removed]",
      "text/plain": [
       "<Figure size 864x720 with 4 Axes>"
      ]
     },
     "metadata": {},
     "output_type": "display_data"
    }
   ],
   "source": [
    "clf = XGBOD(estimator_list=[IForest()])\n",
    "clf.fit(X_train, y_train)\n",
    "\n",
    "# get the prediction labels and outlier scores of the training data\n",
    "y_train_pred = clf.labels_  # binary labels (0: inliers, 1: outliers)\n",
    "y_train_scores = clf.decision_scores_  # raw outlier scores\n",
    "\n",
    "# get the prediction on the test data\n",
    "y_test_pred = clf.predict(X_test)  # outlier labels (0 or 1)\n",
    "y_test_scores = clf.decision_function(X_test)  # outlier scores\n",
    "\n",
    "# evaluate and print the results\n",
    "print(\"\\nOn Training Data:\")\n",
    "evaluate_print('XGBOD', y_train, y_train_scores)\n",
    "print(\"\\nOn Test Data:\")\n",
    "evaluate_print('XGBOD', y_test, y_test_scores)\n",
    "\n",
    "# visualize the results\n",
    "visualize('XGBOD', X_train, y_train, X_test, y_test, y_train_pred,\n",
    "          y_test_pred, show_figure=True, save_figure=False)"
   ]
  },
  {
   "cell_type": "code",
   "execution_count": 66,
   "id": "c6716610",
   "metadata": {},
   "outputs": [
    {
     "name": "stdout",
     "output_type": "stream",
     "text": [
      "              precision    recall  f1-score   support\n",
      "\n",
      "           0       0.95      1.00      0.97      1621\n",
      "           1       0.00      0.00      0.00        94\n",
      "\n",
      "    accuracy                           0.95      1715\n",
      "   macro avg       0.47      0.50      0.49      1715\n",
      "weighted avg       0.89      0.95      0.92      1715\n",
      "\n"
     ]
    }
   ],
   "source": [
    "print(classification_report(y_test, y_test_pred))"
   ]
  },
  {
   "cell_type": "code",
   "execution_count": 67,
   "id": "20697e77",
   "metadata": {},
   "outputs": [
    {
     "name": "stdout",
     "output_type": "stream",
     "text": [
      "F1: 0.0\n",
      "ROC-AUC: 0.6350919448199824\n"
     ]
    }
   ],
   "source": [
    "# Only report results for the class specified by pos_label (1)\n",
    "\n",
    "print('F1:', f1_score(y_test, y_test_pred))\n",
    "print('ROC-AUC:', roc_auc_score(y_test, y_test_scores))"
   ]
  },
  {
   "cell_type": "code",
   "execution_count": 68,
   "id": "2f650248",
   "metadata": {},
   "outputs": [
    {
     "data": {
      "text/plain": [
       "Text(0, 0.5, 'True Positive Rate')"
      ]
     },
     "execution_count": 68,
     "metadata": {},
     "output_type": "execute_result"
    },
    {
     "data": {
      "image/png": "[encoded data removed]",
      "text/plain": [
       "<Figure size 432x288 with 1 Axes>"
      ]
     },
     "metadata": {
      "needs_background": "light"
     },
     "output_type": "display_data"
    }
   ],
   "source": [
    "fpr, tpr, _ = roc_curve(y_test, y_test_scores)\n",
    "\n",
    "sns.scatterplot(x = fpr, y = tpr)\n",
    "sns.lineplot(x = fpr, y = tpr)\n",
    "sns.lineplot(x = [0, 1], y = [0, 1], color = 'green')\n",
    "plt.xlim(-0.05, 1.05)\n",
    "plt.ylim(-0.05, 1.05)\n",
    "plt.xlabel(\"False Positive Rate\")\n",
    "plt.ylabel(\"True Positive Rate\")"
   ]
  },
  {
   "cell_type": "markdown",
   "id": "fd600915",
   "metadata": {},
   "source": [
    "## KNN"
   ]
  },
  {
   "cell_type": "code",
   "execution_count": 69,
   "id": "b6643913",
   "metadata": {},
   "outputs": [
    {
     "name": "stdout",
     "output_type": "stream",
     "text": [
      "\n",
      "On Training Data:\n",
      "KNN ROC:0.602, precision @ rank n:0.0735\n",
      "\n",
      "On Test Data:\n",
      "KNN ROC:0.6012, precision @ rank n:0.0957\n"
     ]
    },
    {
     "data": {
      "image/png": "[encoded data removed]",
      "text/plain": [
       "<Figure size 864x720 with 4 Axes>"
      ]
     },
     "metadata": {},
     "output_type": "display_data"
    }
   ],
   "source": [
    "clf = KNN() \n",
    "clf.fit(X_train, y_train)\n",
    "\n",
    "# get the prediction labels and outlier scores of the training data\n",
    "y_train_pred = clf.labels_  # binary labels (0: inliers, 1: outliers)\n",
    "y_train_scores = clf.decision_scores_  # raw outlier scores\n",
    "\n",
    "# get the prediction on the test data\n",
    "y_test_pred = clf.predict(X_test)  # outlier labels (0 or 1)\n",
    "y_test_scores = clf.decision_function(X_test)  # outlier scores\n",
    "\n",
    "# evaluate and print the results\n",
    "print(\"\\nOn Training Data:\")\n",
    "evaluate_print('KNN', y_train, y_train_scores)\n",
    "print(\"\\nOn Test Data:\")\n",
    "evaluate_print('KNN', y_test, y_test_scores)\n",
    "\n",
    "# visualize the results\n",
    "visualize('KNN', X_train, y_train, X_test, y_test, y_train_pred,\n",
    "          y_test_pred, show_figure=True, save_figure=False)"
   ]
  },
  {
   "cell_type": "code",
   "execution_count": 70,
   "id": "7f08fdde",
   "metadata": {},
   "outputs": [
    {
     "name": "stdout",
     "output_type": "stream",
     "text": [
      "              precision    recall  f1-score   support\n",
      "\n",
      "           0       0.95      0.89      0.92      1621\n",
      "           1       0.07      0.15      0.10        94\n",
      "\n",
      "    accuracy                           0.85      1715\n",
      "   macro avg       0.51      0.52      0.51      1715\n",
      "weighted avg       0.90      0.85      0.87      1715\n",
      "\n"
     ]
    }
   ],
   "source": [
    "print(classification_report(y_test, y_test_pred))"
   ]
  },
  {
   "cell_type": "code",
   "execution_count": 71,
   "id": "ad076b6c",
   "metadata": {},
   "outputs": [
    {
     "name": "stdout",
     "output_type": "stream",
     "text": [
      "F1: 0.0958904109589041\n",
      "ROC-AUC: 0.6012114927743579\n"
     ]
    }
   ],
   "source": [
    "# Only report results for the class specified by pos_label (1)\n",
    "\n",
    "print('F1:', f1_score(y_test, y_test_pred))\n",
    "print('ROC-AUC:', roc_auc_score(y_test, y_test_scores))"
   ]
  },
  {
   "cell_type": "code",
   "execution_count": 72,
   "id": "281c2392",
   "metadata": {},
   "outputs": [
    {
     "data": {
      "text/plain": [
       "Text(0, 0.5, 'True Positive Rate')"
      ]
     },
     "execution_count": 72,
     "metadata": {},
     "output_type": "execute_result"
    },
    {
     "data": {
      "image/png": "[encoded data removed]",
      "text/plain": [
       "<Figure size 432x288 with 1 Axes>"
      ]
     },
     "metadata": {
      "needs_background": "light"
     },
     "output_type": "display_data"
    }
   ],
   "source": [
    "fpr, tpr, _ = roc_curve(y_test, y_test_scores)\n",
    "\n",
    "sns.scatterplot(x = fpr, y = tpr)\n",
    "sns.lineplot(x = fpr, y = tpr)\n",
    "sns.lineplot(x = [0, 1], y = [0, 1], color = 'green')\n",
    "plt.xlim(-0.05, 1.05)\n",
    "plt.ylim(-0.05, 1.05)\n",
    "plt.xlabel(\"False Positive Rate\")\n",
    "plt.ylabel(\"True Positive Rate\")"
   ]
  },
  {
   "cell_type": "markdown",
   "id": "8e4b7eda",
   "metadata": {},
   "source": [
    "# Decision Tree Classifier"
   ]
  },
  {
   "cell_type": "code",
   "execution_count": 73,
   "id": "0d938d93",
   "metadata": {},
   "outputs": [],
   "source": [
    "from sklearn.tree import DecisionTreeClassifier\n",
    "\n",
    "clf = DecisionTreeClassifier(criterion=\"gini\", random_state=42,max_depth=3, min_samples_leaf=5)   "
   ]
  },
  {
   "cell_type": "code",
   "execution_count": 74,
   "id": "94142bce",
   "metadata": {
    "scrolled": true
   },
   "outputs": [
    {
     "name": "stdout",
     "output_type": "stream",
     "text": [
      "F1: 0.0\n",
      "ROC-AUC: 0.5\n"
     ]
    }
   ],
   "source": [
    "clf.fit(X_train, y_train)\n",
    "\n",
    "# get the prediction on the test data\n",
    "y_test_pred = clf.predict(X_test)  # outlier labels (0 or 1)\n",
    "\n",
    "# Only report results for the class specified by pos_label (1)\n",
    "print('F1:', f1_score(y_test, y_test_pred))\n",
    "print('ROC-AUC:', roc_auc_score(y_test, y_test_pred))"
   ]
  },
  {
   "cell_type": "code",
   "execution_count": 75,
   "id": "074cb70f",
   "metadata": {},
   "outputs": [
    {
     "name": "stdout",
     "output_type": "stream",
     "text": [
      "              precision    recall  f1-score   support\n",
      "\n",
      "           0       0.95      1.00      0.97      1621\n",
      "           1       0.00      0.00      0.00        94\n",
      "\n",
      "    accuracy                           0.95      1715\n",
      "   macro avg       0.47      0.50      0.49      1715\n",
      "weighted avg       0.89      0.95      0.92      1715\n",
      "\n"
     ]
    }
   ],
   "source": [
    "print(classification_report(y_test, y_test_pred))"
   ]
  },
  {
   "cell_type": "code",
   "execution_count": 176,
   "id": "9cd34806",
   "metadata": {},
   "outputs": [],
   "source": [
    "from sklearn.ensemble import RandomForestClassifier\n",
    "\n",
    "clf = RandomForestClassifier()"
   ]
  },
  {
   "cell_type": "code",
   "execution_count": 177,
   "id": "90c1424e",
   "metadata": {},
   "outputs": [
    {
     "name": "stdout",
     "output_type": "stream",
     "text": [
      "F1: 0.9182430266110932\n",
      "ROC-AUC: 0.5449350649350649\n"
     ]
    }
   ],
   "source": [
    "clf.fit(X_train, y_train)\n",
    "\n",
    "# get the prediction on the test data\n",
    "y_test_pred = clf.predict(X_test)  # outlier labels (0 or 1)\n",
    "\n",
    "# Only report results for the class specified by pos_label (1)\n",
    "print('F1:', f1_score(y_test, y_test_pred))\n",
    "print('ROC-AUC:', roc_auc_score(y_test, y_test_pred))"
   ]
  },
  {
   "cell_type": "code",
   "execution_count": 178,
   "id": "de4c1b57",
   "metadata": {},
   "outputs": [
    {
     "name": "stdout",
     "output_type": "stream",
     "text": [
      "              precision    recall  f1-score   support\n",
      "\n",
      "           0       0.21      0.16      0.18       175\n",
      "           1       0.91      0.93      0.92      1540\n",
      "\n",
      "    accuracy                           0.85      1715\n",
      "   macro avg       0.56      0.54      0.55      1715\n",
      "weighted avg       0.84      0.85      0.84      1715\n",
      "\n"
     ]
    }
   ],
   "source": [
    "print(classification_report(y_test, y_test_pred))"
   ]
  },
  {
   "cell_type": "markdown",
   "id": "c5fd5c7b",
   "metadata": {},
   "source": [
    "# KDE"
   ]
  },
  {
   "cell_type": "code",
   "execution_count": 179,
   "id": "53e64587",
   "metadata": {},
   "outputs": [
    {
     "name": "stdout",
     "output_type": "stream",
     "text": [
      "\n",
      "On Training Data:\n",
      "KDE ROC:0.7575, precision @ rank n:0.9198\n",
      "\n",
      "On Test Data:\n",
      "KDE ROC:0.777, precision @ rank n:0.9123\n"
     ]
    },
    {
     "data": {
      "image/png": "[encoded data removed]",
      "text/plain": [
       "<Figure size 864x720 with 4 Axes>"
      ]
     },
     "metadata": {},
     "output_type": "display_data"
    }
   ],
   "source": [
    "clf = KDE(algorithm='auto')\n",
    "clf.fit(X_train, y_train)\n",
    "\n",
    "# get the prediction labels and outlier scores of the training data\n",
    "y_train_pred = clf.labels_  # binary labels (0: inliers, 1: outliers)\n",
    "y_train_scores = clf.decision_scores_  # raw outlier scores\n",
    "\n",
    "# get the prediction on the test data\n",
    "y_test_pred = clf.predict(X_test)  # outlier labels (0 or 1)\n",
    "y_test_scores = clf.decision_function(X_test)  # outlier scores\n",
    "\n",
    "# evaluate and print the results\n",
    "print(\"\\nOn Training Data:\")\n",
    "evaluate_print('KDE', y_train, y_train_scores)\n",
    "print(\"\\nOn Test Data:\")\n",
    "evaluate_print('KDE', y_test, y_test_scores)\n",
    "\n",
    "# visualize the results\n",
    "visualize('KDE', X_train, y_train, X_test, y_test, y_train_pred,\n",
    "          y_test_pred, show_figure=True, save_figure=False)"
   ]
  },
  {
   "cell_type": "code",
   "execution_count": 180,
   "id": "23edfd13",
   "metadata": {},
   "outputs": [
    {
     "name": "stdout",
     "output_type": "stream",
     "text": [
      "F1: 0.2319173363949483\n",
      "ROC-AUC: 0.7769833024118739\n"
     ]
    }
   ],
   "source": [
    "# Only report results for the class specified by pos_label (1)\n",
    "print('F1:', f1_score(y_test, y_test_pred))\n",
    "print('ROC-AUC:', roc_auc_score(y_test, y_test_scores))"
   ]
  },
  {
   "cell_type": "code",
   "execution_count": 181,
   "id": "fb2d03ee",
   "metadata": {},
   "outputs": [
    {
     "name": "stdout",
     "output_type": "stream",
     "text": [
      "              precision    recall  f1-score   support\n",
      "\n",
      "           0       0.12      1.00      0.21       175\n",
      "           1       1.00      0.13      0.23      1540\n",
      "\n",
      "    accuracy                           0.22      1715\n",
      "   macro avg       0.56      0.57      0.22      1715\n",
      "weighted avg       0.91      0.22      0.23      1715\n",
      "\n"
     ]
    }
   ],
   "source": [
    "print(classification_report(y_test, y_test_pred))"
   ]
  },
  {
   "cell_type": "code",
   "execution_count": 94,
   "id": "217f6183",
   "metadata": {},
   "outputs": [
    {
     "data": {
      "text/plain": [
       "Text(0, 0.5, 'True Positive Rate')"
      ]
     },
     "execution_count": 94,
     "metadata": {},
     "output_type": "execute_result"
    },
    {
     "data": {
      "image/png": "[encoded data removed]",
      "text/plain": [
       "<Figure size 432x288 with 1 Axes>"
      ]
     },
     "metadata": {
      "needs_background": "light"
     },
     "output_type": "display_data"
    }
   ],
   "source": [
    "fpr, tpr, _ = roc_curve(y_test, y_test_scores)\n",
    "\n",
    "sns.scatterplot(x = fpr, y = tpr)\n",
    "sns.lineplot(x = fpr, y = tpr)\n",
    "sns.lineplot(x = [0, 1], y = [0, 1], color = 'green')\n",
    "plt.xlim(-0.05, 1.05)\n",
    "plt.ylim(-0.05, 1.05)\n",
    "plt.xlabel(\"False Positive Rate\")\n",
    "plt.ylabel(\"True Positive Rate\")"
   ]
  },
  {
   "cell_type": "markdown",
   "id": "edb26e8e",
   "metadata": {},
   "source": [
    "# CBLOF"
   ]
  },
  {
   "cell_type": "code",
   "execution_count": 182,
   "id": "bcb5a3f8",
   "metadata": {
    "scrolled": false
   },
   "outputs": [
    {
     "name": "stdout",
     "output_type": "stream",
     "text": [
      "\n",
      "On Training Data:\n",
      "CBLOF ROC:0.6084, precision @ rank n:0.9142\n",
      "\n",
      "On Test Data:\n",
      "CBLOF ROC:0.6253, precision @ rank n:0.8961\n"
     ]
    },
    {
     "data": {
      "image/png": "[encoded data removed]",
      "text/plain": [
       "<Figure size 864x720 with 4 Axes>"
      ]
     },
     "metadata": {},
     "output_type": "display_data"
    }
   ],
   "source": [
    "clf = CBLOF()\n",
    "clf.fit(X_train, y_train)\n",
    "\n",
    "# get the prediction labels and outlier scores of the training data\n",
    "y_train_pred = clf.labels_  # binary labels (0: inliers, 1: outliers)\n",
    "y_train_scores = clf.decision_scores_  # raw outlier scores\n",
    "\n",
    "# get the prediction on the test data\n",
    "y_test_pred = clf.predict(X_test)  # outlier labels (0 or 1)\n",
    "y_test_scores = clf.decision_function(X_test)  # outlier scores\n",
    "\n",
    "# evaluate and print the results\n",
    "print(\"\\nOn Training Data:\")\n",
    "evaluate_print('CBLOF', y_train, y_train_scores)\n",
    "print(\"\\nOn Test Data:\")\n",
    "evaluate_print('CBLOF', y_test, y_test_scores)\n",
    "\n",
    "# visualize the results\n",
    "visualize('CBLOF', X_train, y_train, X_test, y_test, y_train_pred,\n",
    "          y_test_pred, show_figure=True, save_figure=False)"
   ]
  },
  {
   "cell_type": "code",
   "execution_count": 183,
   "id": "76ac7b96",
   "metadata": {},
   "outputs": [
    {
     "name": "stdout",
     "output_type": "stream",
     "text": [
      "F1: 0.23495702005730656\n",
      "ROC-AUC: 0.6253061224489795\n"
     ]
    }
   ],
   "source": [
    "# Only report results for the class specified by pos_label (1)\n",
    "print('F1:', f1_score(y_test, y_test_pred))\n",
    "print('ROC-AUC:', roc_auc_score(y_test, y_test_scores))"
   ]
  },
  {
   "cell_type": "code",
   "execution_count": 184,
   "id": "efb20727",
   "metadata": {},
   "outputs": [
    {
     "name": "stdout",
     "output_type": "stream",
     "text": [
      "              precision    recall  f1-score   support\n",
      "\n",
      "           0       0.12      1.00      0.21       175\n",
      "           1       1.00      0.13      0.23      1540\n",
      "\n",
      "    accuracy                           0.22      1715\n",
      "   macro avg       0.56      0.57      0.22      1715\n",
      "weighted avg       0.91      0.22      0.23      1715\n",
      "\n"
     ]
    }
   ],
   "source": [
    "print(classification_report(y_test, y_test_pred))"
   ]
  },
  {
   "cell_type": "code",
   "execution_count": 97,
   "id": "3866f987",
   "metadata": {},
   "outputs": [
    {
     "data": {
      "text/plain": [
       "Text(0, 0.5, 'True Positive Rate')"
      ]
     },
     "execution_count": 97,
     "metadata": {},
     "output_type": "execute_result"
    },
    {
     "data": {
      "image/png": "[encoded data removed]",
      "text/plain": [
       "<Figure size 432x288 with 1 Axes>"
      ]
     },
     "metadata": {
      "needs_background": "light"
     },
     "output_type": "display_data"
    }
   ],
   "source": [
    "fpr, tpr, _ = roc_curve(y_test, y_test_scores)\n",
    "\n",
    "sns.scatterplot(x = fpr, y = tpr)\n",
    "sns.lineplot(x = fpr, y = tpr)\n",
    "sns.lineplot(x = [0, 1], y = [0, 1], color = 'green')\n",
    "plt.xlim(-0.05, 1.05)\n",
    "plt.ylim(-0.05, 1.05)\n",
    "plt.xlabel(\"False Positive Rate\")\n",
    "plt.ylabel(\"True Positive Rate\")"
   ]
  },
  {
   "cell_type": "markdown",
   "id": "84f493b8",
   "metadata": {},
   "source": [
    "# GMM"
   ]
  },
  {
   "cell_type": "code",
   "execution_count": 185,
   "id": "1e2b231e",
   "metadata": {
    "scrolled": false
   },
   "outputs": [
    {
     "name": "stdout",
     "output_type": "stream",
     "text": [
      "\n",
      "On Training Data:\n",
      "CBLOF ROC:0.3522, precision @ rank n:0.9057\n",
      "\n",
      "On Test Data:\n",
      "CBLOF ROC:0.3676, precision @ rank n:0.8877\n"
     ]
    },
    {
     "data": {
      "image/png": "[encoded data removed]",
      "text/plain": [
       "<Figure size 864x720 with 4 Axes>"
      ]
     },
     "metadata": {},
     "output_type": "display_data"
    }
   ],
   "source": [
    "clf = GMM()\n",
    "clf.fit(X_train, y_train)\n",
    "\n",
    "# get the prediction labels and outlier scores of the training data\n",
    "y_train_pred = clf.labels_  # binary labels (0: inliers, 1: outliers)\n",
    "y_train_scores = clf.decision_scores_  # raw outlier scores\n",
    "\n",
    "# get the prediction on the test data\n",
    "y_test_pred = clf.predict(X_test)  # outlier labels (0 or 1)\n",
    "y_test_scores = clf.decision_function(X_test)  # outlier scores\n",
    "\n",
    "# evaluate and print the results\n",
    "print(\"\\nOn Training Data:\")\n",
    "evaluate_print('CBLOF', y_train, y_train_scores)\n",
    "print(\"\\nOn Test Data:\")\n",
    "evaluate_print('CBLOF', y_test, y_test_scores)\n",
    "\n",
    "# visualize the results\n",
    "visualize('CBLOF', X_train, y_train, X_test, y_test, y_train_pred,\n",
    "          y_test_pred, show_figure=True, save_figure=False)"
   ]
  },
  {
   "cell_type": "code",
   "execution_count": 186,
   "id": "19fbeb53",
   "metadata": {},
   "outputs": [
    {
     "name": "stdout",
     "output_type": "stream",
     "text": [
      "F1: 0.2319173363949483\n",
      "ROC-AUC: 0.3675732838589981\n"
     ]
    }
   ],
   "source": [
    "# Only report results for the class specified by pos_label (1)\n",
    "print('F1:', f1_score(y_test, y_test_pred))\n",
    "print('ROC-AUC:', roc_auc_score(y_test, y_test_scores))"
   ]
  },
  {
   "cell_type": "code",
   "execution_count": 187,
   "id": "9151a153",
   "metadata": {},
   "outputs": [
    {
     "name": "stdout",
     "output_type": "stream",
     "text": [
      "              precision    recall  f1-score   support\n",
      "\n",
      "           0       0.12      1.00      0.21       175\n",
      "           1       1.00      0.13      0.23      1540\n",
      "\n",
      "    accuracy                           0.22      1715\n",
      "   macro avg       0.56      0.57      0.22      1715\n",
      "weighted avg       0.91      0.22      0.23      1715\n",
      "\n"
     ]
    }
   ],
   "source": [
    "print(classification_report(y_test, y_test_pred))"
   ]
  },
  {
   "cell_type": "code",
   "execution_count": 100,
   "id": "50d7f672",
   "metadata": {},
   "outputs": [
    {
     "data": {
      "text/plain": [
       "Text(0, 0.5, 'True Positive Rate')"
      ]
     },
     "execution_count": 100,
     "metadata": {},
     "output_type": "execute_result"
    },
    {
     "data": {
      "image/png": "[encoded data removed]",
      "text/plain": [
       "<Figure size 432x288 with 1 Axes>"
      ]
     },
     "metadata": {
      "needs_background": "light"
     },
     "output_type": "display_data"
    }
   ],
   "source": [
    "fpr, tpr, _ = roc_curve(y_test, y_test_scores)\n",
    "\n",
    "sns.scatterplot(x = fpr, y = tpr)\n",
    "sns.lineplot(x = fpr, y = tpr)\n",
    "sns.lineplot(x = [0, 1], y = [0, 1], color = 'green')\n",
    "plt.xlim(-0.05, 1.05)\n",
    "plt.ylim(-0.05, 1.05)\n",
    "plt.xlabel(\"False Positive Rate\")\n",
    "plt.ylabel(\"True Positive Rate\")"
   ]
  },
  {
   "cell_type": "markdown",
   "id": "19ed7da8",
   "metadata": {},
   "source": [
    "## Score Generation\n",
    "\n",
    "Extracting node anomalies from group anomalies"
   ]
  },
  {
   "cell_type": "code",
   "execution_count": 137,
   "id": "c3896a13",
   "metadata": {},
   "outputs": [
    {
     "data": {
      "application/vnd.jupyter.widget-view+json": {
       "model_id": "5e8e9ef9a0634ce2b8695f70900123b1",
       "version_major": 2,
       "version_minor": 0
      },
      "text/plain": [
       "  0%|          | 0/5196 [00:00<?, ?it/s]"
      ]
     },
     "metadata": {},
     "output_type": "display_data"
    }
   ],
   "source": [
    "# scores = []\n",
    "# for idx, g in enumerate(tqdm(ego_gs)):\n",
    "#     score = 0\n",
    "#     for node in g.nodes:\n",
    "#         score += anom_scores[node]\n",
    "#     scores.append(score / len(g.nodes))\n",
    "\n",
    "scores = []\n",
    "for idx, key in enumerate(tqdm(anom_scores)):\n",
    "    score = sum(anom_scores[key]) / len(anom_scores[key])\n",
    "    scores.append([1-score, score])\n",
    "#     scores.append(score)\n",
    "    \n",
    "scores = np.array(scores)"
   ]
  },
  {
   "cell_type": "markdown",
   "id": "1afb5326",
   "metadata": {},
   "source": [
    "## Message Passing"
   ]
  },
  {
   "cell_type": "code",
   "execution_count": 8,
   "id": "5e1bdb89",
   "metadata": {},
   "outputs": [
    {
     "ename": "AttributeError",
     "evalue": "module 'scipy.sparse' has no attribute 'coo_array'",
     "output_type": "error",
     "traceback": [
      "\u001b[0;31m---------------------------------------------------------------------------\u001b[0m",
      "\u001b[0;31mAttributeError\u001b[0m                            Traceback (most recent call last)",
      "Input \u001b[0;32mIn [8]\u001b[0m, in \u001b[0;36m<cell line: 2>\u001b[0;34m()\u001b[0m\n\u001b[1;32m      1\u001b[0m \u001b[38;5;66;03m# create edge index from \u001b[39;00m\n\u001b[0;32m----> 2\u001b[0m adj \u001b[38;5;241m=\u001b[39m \u001b[43mnx\u001b[49m\u001b[38;5;241;43m.\u001b[39;49m\u001b[43mto_scipy_sparse_array\u001b[49m\u001b[43m(\u001b[49m\u001b[43mG\u001b[49m\u001b[43m)\u001b[49m\u001b[38;5;241m.\u001b[39mtocoo()\n\u001b[1;32m      3\u001b[0m row \u001b[38;5;241m=\u001b[39m torch\u001b[38;5;241m.\u001b[39mfrom_numpy(adj\u001b[38;5;241m.\u001b[39mrow\u001b[38;5;241m.\u001b[39mastype(np\u001b[38;5;241m.\u001b[39mint64))\u001b[38;5;241m.\u001b[39mto(torch\u001b[38;5;241m.\u001b[39mlong)\n\u001b[1;32m      4\u001b[0m col \u001b[38;5;241m=\u001b[39m torch\u001b[38;5;241m.\u001b[39mfrom_numpy(adj\u001b[38;5;241m.\u001b[39mcol\u001b[38;5;241m.\u001b[39mastype(np\u001b[38;5;241m.\u001b[39mint64))\u001b[38;5;241m.\u001b[39mto(torch\u001b[38;5;241m.\u001b[39mlong)\n",
      "File \u001b[0;32m~/miniconda3/envs/anom_detect/lib/python3.10/site-packages/networkx/convert_matrix.py:923\u001b[0m, in \u001b[0;36mto_scipy_sparse_array\u001b[0;34m(G, nodelist, dtype, weight, format)\u001b[0m\n\u001b[1;32m    921\u001b[0m         r \u001b[38;5;241m+\u001b[39m\u001b[38;5;241m=\u001b[39m diag_index\n\u001b[1;32m    922\u001b[0m         c \u001b[38;5;241m+\u001b[39m\u001b[38;5;241m=\u001b[39m diag_index\n\u001b[0;32m--> 923\u001b[0m     A \u001b[38;5;241m=\u001b[39m \u001b[43msp\u001b[49m\u001b[38;5;241;43m.\u001b[39;49m\u001b[43msparse\u001b[49m\u001b[38;5;241;43m.\u001b[39;49m\u001b[43mcoo_array\u001b[49m((d, (r, c)), shape\u001b[38;5;241m=\u001b[39m(nlen, nlen), dtype\u001b[38;5;241m=\u001b[39mdtype)\n\u001b[1;32m    924\u001b[0m \u001b[38;5;28;01mtry\u001b[39;00m:\n\u001b[1;32m    925\u001b[0m     \u001b[38;5;28;01mreturn\u001b[39;00m A\u001b[38;5;241m.\u001b[39masformat(\u001b[38;5;28mformat\u001b[39m)\n",
      "\u001b[0;31mAttributeError\u001b[0m: module 'scipy.sparse' has no attribute 'coo_array'"
     ]
    }
   ],
   "source": [
    "# create edge index from \n",
    "adj = nx.to_scipy_sparse_array(G).tocoo()\n",
    "row = torch.from_numpy(adj.row.astype(np.int64)).to(torch.long)\n",
    "col = torch.from_numpy(adj.col.astype(np.int64)).to(torch.long)\n",
    "edge_index = torch.stack([row, col], dim=0)"
   ]
  },
  {
   "cell_type": "code",
   "execution_count": 19,
   "id": "e28c7bf7",
   "metadata": {},
   "outputs": [
    {
     "name": "stdout",
     "output_type": "stream",
     "text": [
      "(array([1.]), array([298]))\n"
     ]
    }
   ],
   "source": [
    "anom_vals = []\n",
    "for idx, label in enumerate(labels):\n",
    "    if label == 1:\n",
    "        anom_vals.append(scores[idx])\n",
    "\n",
    "print(np.unique(anom_vals, return_counts=True))"
   ]
  },
  {
   "cell_type": "code",
   "execution_count": 20,
   "id": "980811d3",
   "metadata": {},
   "outputs": [],
   "source": [
    "from sklearn.preprocessing import StandardScaler\n",
    "\n",
    "scale = StandardScaler()\n",
    "embeddings = scale.fit_transform(np.array(scores).reshape(-1, 1))"
   ]
  },
  {
   "cell_type": "code",
   "execution_count": 22,
   "id": "39809e18",
   "metadata": {},
   "outputs": [
    {
     "ename": "OSError",
     "evalue": "/home/tutt/miniconda3/envs/anom_detect/lib/python3.10/site-packages/torch_sparse/_version_cuda.so: undefined symbol: _ZN5torch3jit17parseSchemaOrNameERKNSt7__cxx1112basic_stringIcSt11char_traitsIcESaIcEEE",
     "output_type": "error",
     "traceback": [
      "\u001b[0;31m---------------------------------------------------------------------------\u001b[0m",
      "\u001b[0;31mOSError\u001b[0m                                   Traceback (most recent call last)",
      "Input \u001b[0;32mIn [22]\u001b[0m, in \u001b[0;36m<cell line: 4>\u001b[0;34m()\u001b[0m\n\u001b[1;32m      1\u001b[0m \u001b[38;5;28;01mimport\u001b[39;00m \u001b[38;5;21;01mtorch\u001b[39;00m\u001b[38;5;21;01m.\u001b[39;00m\u001b[38;5;21;01mnn\u001b[39;00m \u001b[38;5;28;01mas\u001b[39;00m \u001b[38;5;21;01mnn\u001b[39;00m\n\u001b[1;32m      2\u001b[0m \u001b[38;5;28;01mimport\u001b[39;00m \u001b[38;5;21;01mtorch\u001b[39;00m\u001b[38;5;21;01m.\u001b[39;00m\u001b[38;5;21;01mnn\u001b[39;00m\u001b[38;5;21;01m.\u001b[39;00m\u001b[38;5;21;01mfunctional\u001b[39;00m \u001b[38;5;28;01mas\u001b[39;00m \u001b[38;5;21;01mF\u001b[39;00m\n\u001b[0;32m----> 4\u001b[0m \u001b[38;5;28;01mfrom\u001b[39;00m \u001b[38;5;21;01mtorch_geometric\u001b[39;00m\u001b[38;5;21;01m.\u001b[39;00m\u001b[38;5;21;01mnn\u001b[39;00m \u001b[38;5;28;01mimport\u001b[39;00m MessagePassing\n\u001b[1;32m      5\u001b[0m \u001b[38;5;28;01mfrom\u001b[39;00m \u001b[38;5;21;01mtorch_geometric\u001b[39;00m\u001b[38;5;21;01m.\u001b[39;00m\u001b[38;5;21;01mutils\u001b[39;00m \u001b[38;5;28;01mimport\u001b[39;00m add_self_loops, degree\n\u001b[1;32m      6\u001b[0m \u001b[38;5;28;01mfrom\u001b[39;00m \u001b[38;5;21;01mtorch_geometric\u001b[39;00m\u001b[38;5;21;01m.\u001b[39;00m\u001b[38;5;21;01mdata\u001b[39;00m \u001b[38;5;28;01mimport\u001b[39;00m InMemoryDataset, Data\n",
      "File \u001b[0;32m~/miniconda3/envs/anom_detect/lib/python3.10/site-packages/torch_geometric/__init__.py:4\u001b[0m, in \u001b[0;36m<module>\u001b[0;34m\u001b[0m\n\u001b[1;32m      1\u001b[0m \u001b[38;5;28;01mfrom\u001b[39;00m \u001b[38;5;21;01mtypes\u001b[39;00m \u001b[38;5;28;01mimport\u001b[39;00m ModuleType\n\u001b[1;32m      2\u001b[0m \u001b[38;5;28;01mfrom\u001b[39;00m \u001b[38;5;21;01mimportlib\u001b[39;00m \u001b[38;5;28;01mimport\u001b[39;00m import_module\n\u001b[0;32m----> 4\u001b[0m \u001b[38;5;28;01mimport\u001b[39;00m \u001b[38;5;21;01mtorch_geometric\u001b[39;00m\u001b[38;5;21;01m.\u001b[39;00m\u001b[38;5;21;01mdata\u001b[39;00m\n\u001b[1;32m      5\u001b[0m \u001b[38;5;28;01mimport\u001b[39;00m \u001b[38;5;21;01mtorch_geometric\u001b[39;00m\u001b[38;5;21;01m.\u001b[39;00m\u001b[38;5;21;01mloader\u001b[39;00m\n\u001b[1;32m      6\u001b[0m \u001b[38;5;28;01mimport\u001b[39;00m \u001b[38;5;21;01mtorch_geometric\u001b[39;00m\u001b[38;5;21;01m.\u001b[39;00m\u001b[38;5;21;01mtransforms\u001b[39;00m\n",
      "File \u001b[0;32m~/miniconda3/envs/anom_detect/lib/python3.10/site-packages/torch_geometric/data/__init__.py:1\u001b[0m, in \u001b[0;36m<module>\u001b[0;34m\u001b[0m\n\u001b[0;32m----> 1\u001b[0m \u001b[38;5;28;01mfrom\u001b[39;00m \u001b[38;5;21;01m.\u001b[39;00m\u001b[38;5;21;01mdata\u001b[39;00m \u001b[38;5;28;01mimport\u001b[39;00m Data\n\u001b[1;32m      2\u001b[0m \u001b[38;5;28;01mfrom\u001b[39;00m \u001b[38;5;21;01m.\u001b[39;00m\u001b[38;5;21;01mhetero_data\u001b[39;00m \u001b[38;5;28;01mimport\u001b[39;00m HeteroData\n\u001b[1;32m      3\u001b[0m \u001b[38;5;28;01mfrom\u001b[39;00m \u001b[38;5;21;01m.\u001b[39;00m\u001b[38;5;21;01mtemporal\u001b[39;00m \u001b[38;5;28;01mimport\u001b[39;00m TemporalData\n",
      "File \u001b[0;32m~/miniconda3/envs/anom_detect/lib/python3.10/site-packages/torch_geometric/data/data.py:20\u001b[0m, in \u001b[0;36m<module>\u001b[0;34m\u001b[0m\n\u001b[1;32m     18\u001b[0m \u001b[38;5;28;01mimport\u001b[39;00m \u001b[38;5;21;01mtorch\u001b[39;00m\n\u001b[1;32m     19\u001b[0m \u001b[38;5;28;01mfrom\u001b[39;00m \u001b[38;5;21;01mtorch\u001b[39;00m \u001b[38;5;28;01mimport\u001b[39;00m Tensor\n\u001b[0;32m---> 20\u001b[0m \u001b[38;5;28;01mfrom\u001b[39;00m \u001b[38;5;21;01mtorch_sparse\u001b[39;00m \u001b[38;5;28;01mimport\u001b[39;00m SparseTensor\n\u001b[1;32m     22\u001b[0m \u001b[38;5;28;01mfrom\u001b[39;00m \u001b[38;5;21;01mtorch_geometric\u001b[39;00m\u001b[38;5;21;01m.\u001b[39;00m\u001b[38;5;21;01mdata\u001b[39;00m\u001b[38;5;21;01m.\u001b[39;00m\u001b[38;5;21;01mfeature_store\u001b[39;00m \u001b[38;5;28;01mimport\u001b[39;00m (\n\u001b[1;32m     23\u001b[0m     FeatureStore,\n\u001b[1;32m     24\u001b[0m     FeatureTensorType,\n\u001b[1;32m     25\u001b[0m     TensorAttr,\n\u001b[1;32m     26\u001b[0m     _field_status,\n\u001b[1;32m     27\u001b[0m )\n\u001b[1;32m     28\u001b[0m \u001b[38;5;28;01mfrom\u001b[39;00m \u001b[38;5;21;01mtorch_geometric\u001b[39;00m\u001b[38;5;21;01m.\u001b[39;00m\u001b[38;5;21;01mdata\u001b[39;00m\u001b[38;5;21;01m.\u001b[39;00m\u001b[38;5;21;01mgraph_store\u001b[39;00m \u001b[38;5;28;01mimport\u001b[39;00m (\n\u001b[1;32m     29\u001b[0m     EDGE_LAYOUT_TO_ATTR_NAME,\n\u001b[1;32m     30\u001b[0m     EdgeAttr,\n\u001b[0;32m   (...)\u001b[0m\n\u001b[1;32m     34\u001b[0m     edge_tensor_type_to_adj_type,\n\u001b[1;32m     35\u001b[0m )\n",
      "File \u001b[0;32m~/miniconda3/envs/anom_detect/lib/python3.10/site-packages/torch_sparse/__init__.py:19\u001b[0m, in \u001b[0;36m<module>\u001b[0;34m\u001b[0m\n\u001b[1;32m     17\u001b[0m spec \u001b[38;5;241m=\u001b[39m cuda_spec \u001b[38;5;129;01mor\u001b[39;00m cpu_spec\n\u001b[1;32m     18\u001b[0m \u001b[38;5;28;01mif\u001b[39;00m spec \u001b[38;5;129;01mis\u001b[39;00m \u001b[38;5;129;01mnot\u001b[39;00m \u001b[38;5;28;01mNone\u001b[39;00m:\n\u001b[0;32m---> 19\u001b[0m     \u001b[43mtorch\u001b[49m\u001b[38;5;241;43m.\u001b[39;49m\u001b[43mops\u001b[49m\u001b[38;5;241;43m.\u001b[39;49m\u001b[43mload_library\u001b[49m\u001b[43m(\u001b[49m\u001b[43mspec\u001b[49m\u001b[38;5;241;43m.\u001b[39;49m\u001b[43morigin\u001b[49m\u001b[43m)\u001b[49m\n\u001b[1;32m     20\u001b[0m \u001b[38;5;28;01melse\u001b[39;00m:  \u001b[38;5;66;03m# pragma: no cover\u001b[39;00m\n\u001b[1;32m     21\u001b[0m     \u001b[38;5;28;01mraise\u001b[39;00m \u001b[38;5;167;01mImportError\u001b[39;00m(\u001b[38;5;124mf\u001b[39m\u001b[38;5;124m\"\u001b[39m\u001b[38;5;124mCould not find module \u001b[39m\u001b[38;5;124m'\u001b[39m\u001b[38;5;132;01m{\u001b[39;00mlibrary\u001b[38;5;132;01m}\u001b[39;00m\u001b[38;5;124m_cpu\u001b[39m\u001b[38;5;124m'\u001b[39m\u001b[38;5;124m in \u001b[39m\u001b[38;5;124m\"\u001b[39m\n\u001b[1;32m     22\u001b[0m                       \u001b[38;5;124mf\u001b[39m\u001b[38;5;124m\"\u001b[39m\u001b[38;5;132;01m{\u001b[39;00mosp\u001b[38;5;241m.\u001b[39mdirname(\u001b[38;5;18m__file__\u001b[39m)\u001b[38;5;132;01m}\u001b[39;00m\u001b[38;5;124m\"\u001b[39m)\n",
      "File \u001b[0;32m~/miniconda3/envs/anom_detect/lib/python3.10/site-packages/torch/_ops.py:255\u001b[0m, in \u001b[0;36m_Ops.load_library\u001b[0;34m(self, path)\u001b[0m\n\u001b[1;32m    250\u001b[0m path \u001b[38;5;241m=\u001b[39m torch\u001b[38;5;241m.\u001b[39m_utils_internal\u001b[38;5;241m.\u001b[39mresolve_library_path(path)\n\u001b[1;32m    251\u001b[0m \u001b[38;5;28;01mwith\u001b[39;00m dl_open_guard():\n\u001b[1;32m    252\u001b[0m     \u001b[38;5;66;03m# Import the shared library into the process, thus running its\u001b[39;00m\n\u001b[1;32m    253\u001b[0m     \u001b[38;5;66;03m# static (global) initialization code in order to register custom\u001b[39;00m\n\u001b[1;32m    254\u001b[0m     \u001b[38;5;66;03m# operators with the JIT.\u001b[39;00m\n\u001b[0;32m--> 255\u001b[0m     \u001b[43mctypes\u001b[49m\u001b[38;5;241;43m.\u001b[39;49m\u001b[43mCDLL\u001b[49m\u001b[43m(\u001b[49m\u001b[43mpath\u001b[49m\u001b[43m)\u001b[49m\n\u001b[1;32m    256\u001b[0m \u001b[38;5;28mself\u001b[39m\u001b[38;5;241m.\u001b[39mloaded_libraries\u001b[38;5;241m.\u001b[39madd(path)\n",
      "File \u001b[0;32m~/miniconda3/envs/anom_detect/lib/python3.10/ctypes/__init__.py:374\u001b[0m, in \u001b[0;36mCDLL.__init__\u001b[0;34m(self, name, mode, handle, use_errno, use_last_error, winmode)\u001b[0m\n\u001b[1;32m    371\u001b[0m \u001b[38;5;28mself\u001b[39m\u001b[38;5;241m.\u001b[39m_FuncPtr \u001b[38;5;241m=\u001b[39m _FuncPtr\n\u001b[1;32m    373\u001b[0m \u001b[38;5;28;01mif\u001b[39;00m handle \u001b[38;5;129;01mis\u001b[39;00m \u001b[38;5;28;01mNone\u001b[39;00m:\n\u001b[0;32m--> 374\u001b[0m     \u001b[38;5;28mself\u001b[39m\u001b[38;5;241m.\u001b[39m_handle \u001b[38;5;241m=\u001b[39m \u001b[43m_dlopen\u001b[49m\u001b[43m(\u001b[49m\u001b[38;5;28;43mself\u001b[39;49m\u001b[38;5;241;43m.\u001b[39;49m\u001b[43m_name\u001b[49m\u001b[43m,\u001b[49m\u001b[43m \u001b[49m\u001b[43mmode\u001b[49m\u001b[43m)\u001b[49m\n\u001b[1;32m    375\u001b[0m \u001b[38;5;28;01melse\u001b[39;00m:\n\u001b[1;32m    376\u001b[0m     \u001b[38;5;28mself\u001b[39m\u001b[38;5;241m.\u001b[39m_handle \u001b[38;5;241m=\u001b[39m handle\n",
      "\u001b[0;31mOSError\u001b[0m: /home/tutt/miniconda3/envs/anom_detect/lib/python3.10/site-packages/torch_sparse/_version_cuda.so: undefined symbol: _ZN5torch3jit17parseSchemaOrNameERKNSt7__cxx1112basic_stringIcSt11char_traitsIcESaIcEEE"
     ]
    }
   ],
   "source": [
    "import torch.nn as nn\n",
    "import torch.nn.functional as F\n",
    "\n",
    "from torch_geometric.nn import MessagePassing\n",
    "from torch_geometric.utils import add_self_loops, degree\n",
    "from torch_geometric.data import InMemoryDataset, Data\n",
    "\n",
    "from sklearn.model_selection import train_test_split"
   ]
  },
  {
   "cell_type": "code",
   "execution_count": 548,
   "id": "e2300848",
   "metadata": {},
   "outputs": [],
   "source": [
    "class BlogCatalogDataset(InMemoryDataset):\n",
    "    def __init__(self, transform=None):\n",
    "        super(BlogCatalogDataset, self).__init__('.', transform, None, None)\n",
    "\n",
    "        data = Data(edge_index=edge_index)\n",
    "        \n",
    "        data.num_nodes = G.number_of_nodes()\n",
    "        \n",
    "        # embedding \n",
    "        data.x = torch.from_numpy(embeddings).type(torch.float32)\n",
    "        \n",
    "        # labels\n",
    "        y = torch.from_numpy(np.array(labels)).type(torch.long)\n",
    "        data.y = y.clone().detach()\n",
    "        \n",
    "        data.num_classes = 2\n",
    "\n",
    "        # splitting the data into train, validation and test\n",
    "        X_train, X_test, y_train, y_test = train_test_split(pd.Series(list(G.nodes())), \n",
    "                                                            pd.Series(labels),\n",
    "                                                            test_size=0.30, \n",
    "                                                            random_state=42)\n",
    "        \n",
    "        n_nodes = G.number_of_nodes()\n",
    "        \n",
    "        # create train and test masks for data\n",
    "        train_mask = torch.zeros(n_nodes, dtype=torch.bool)\n",
    "        test_mask = torch.zeros(n_nodes, dtype=torch.bool)\n",
    "        train_mask[X_train.index] = True\n",
    "        test_mask[X_test.index] = True\n",
    "        data['train_mask'] = train_mask\n",
    "        data['test_mask'] = test_mask\n",
    "\n",
    "        self.data, self.slices = self.collate([data])\n",
    "\n",
    "    def _download(self):\n",
    "        return\n",
    "\n",
    "    def _process(self):\n",
    "        return\n",
    "\n",
    "    def __repr__(self):\n",
    "        return '{}()'.format(self.__class__.__name__)"
   ]
  },
  {
   "cell_type": "code",
   "execution_count": 564,
   "id": "bf1c2998",
   "metadata": {},
   "outputs": [],
   "source": [
    "class GCNConv(MessagePassing):\n",
    "    def __init__(self, in_channels, out_channels):\n",
    "        super(GCNConv, self).__init__(aggr='add')  # \"Add\" aggregation\n",
    "        self.lin = torch.nn.Linear(in_channels, out_channels)\n",
    "\n",
    "    def forward(self, x, edge_index):\n",
    "        # Step 1: Add self-loops\n",
    "        edge_index, _ = add_self_loops(edge_index, num_nodes=x.size(0))\n",
    "\n",
    "        # Step 2: Multiply with weights\n",
    "        x = self.lin(x)\n",
    "\n",
    "        # Step 3: Calculate the normalization\n",
    "        row, col = edge_index\n",
    "        deg = degree(row, x.size(0), dtype=x.dtype)\n",
    "        deg_inv_sqrt = deg.pow(-0.5)\n",
    "        norm = deg_inv_sqrt[row] * deg_inv_sqrt[col]\n",
    "\n",
    "        # Step 4: Propagate the embeddings to the next layer\n",
    "        return self.propagate(edge_index, size=(x.size(0), x.size(0)), x=x,\n",
    "                              norm=norm)\n",
    "\n",
    "    def message(self, x_j, norm):\n",
    "        # Normalize node features.\n",
    "        return norm.view(-1, 1) * x_j\n",
    "    \n",
    "\n",
    "class Net(torch.nn.Module):\n",
    "    def __init__(self, dataset):\n",
    "        super(Net, self).__init__()\n",
    "#         self.conv1 = GCNConv(dataset.num_node_features, 16)\n",
    "#         self.conv2 = GCNConv(16, dataset.num_classes)\n",
    "\n",
    "\n",
    "        self.conv1 = GCNConv(dataset.num_node_features, dataset.num_classes)\n",
    "\n",
    "\n",
    "    def forward(self, data):\n",
    "        x, edge_index = data.x, data.edge_index\n",
    "        \n",
    "        x = self.conv1(x, edge_index)\n",
    "#         x = F.relu(x)\n",
    "#         x = F.dropout(x, training=self.training)\n",
    "#         x = self.conv2(x, edge_index)\n",
    "        print(x)\n",
    "        print(F.softmax(x, dim=1))\n",
    "        \n",
    "        return F.softmax(x, dim=1)"
   ]
  },
  {
   "cell_type": "code",
   "execution_count": 565,
   "id": "c4217869",
   "metadata": {},
   "outputs": [],
   "source": [
    "def test(data, train=True):\n",
    "    model.eval()\n",
    "\n",
    "    correct = 0\n",
    "    pred = model(data).max(dim=1)[1]\n",
    "    \n",
    "#     print(np.unique(pred[data.train_mask].cpu().numpy()))\n",
    "    \n",
    "#     if not train:\n",
    "#         print(f1_score(data.y[data.train_mask].cpu().numpy(), pred[data.train_mask].cpu().numpy()))\n",
    "\n",
    "    if train:\n",
    "        correct += pred[data.train_mask].eq(data.y[data.train_mask]).sum().item()\n",
    "        return correct / (len(data.y[data.train_mask]))\n",
    "    else:\n",
    "        correct += pred[data.test_mask].eq(data.y[data.test_mask]).sum().item()\n",
    "        return correct / (len(data.y[data.test_mask]))\n"
   ]
  },
  {
   "cell_type": "code",
   "execution_count": 566,
   "id": "530062e6",
   "metadata": {},
   "outputs": [],
   "source": [
    "def train(data, epochs=100, plot=False):\n",
    "    train_accuracies, test_accuracies = list(), list()\n",
    "    for epoch in range(epochs):\n",
    "            model.train()\n",
    "            optimizer.zero_grad()\n",
    "            out = model(data)\n",
    "            loss = F.nll_loss(out[data.train_mask], data.y[data.train_mask])\n",
    "            loss.backward()\n",
    "            optimizer.step()\n",
    "\n",
    "            train_acc = test(data)\n",
    "            test_acc = test(data, train=False)         \n",
    "\n",
    "            train_accuracies.append(train_acc)\n",
    "            test_accuracies.append(test_acc)\n",
    "            print('Epoch: {:03d}, Loss: {:.5f}, Train Acc: {:.5f}, Test Acc: {:.5f}'.\n",
    "                  format(epoch, loss, train_acc, test_acc))\n",
    "\n",
    "    if plot:\n",
    "        plt.plot(train_accuracies, label=\"Train accuracy\")\n",
    "        plt.plot(test_accuracies, label=\"Validation accuracy\")\n",
    "        plt.xlabel(\"# Epoch\")\n",
    "        plt.ylabel(\"Accuracy\")\n",
    "        plt.legend(loc='upper right')\n",
    "        plt.show()"
   ]
  },
  {
   "cell_type": "code",
   "execution_count": 567,
   "id": "8f921ccf",
   "metadata": {},
   "outputs": [
    {
     "name": "stdout",
     "output_type": "stream",
     "text": [
      "tensor([[-3.3398,  1.7935],\n",
      "        [-2.5713,  1.4916],\n",
      "        [-2.3944,  1.5148],\n",
      "        ...,\n",
      "        [-0.3018,  0.6146],\n",
      "        [-0.4743,  0.2855],\n",
      "        [-0.1900,  0.4870]], device='cuda:0', grad_fn=<ScatterAddBackward0>)\n",
      "tensor([[0.0059, 0.9941],\n",
      "        [0.0169, 0.9831],\n",
      "        [0.0197, 0.9803],\n",
      "        ...,\n",
      "        [0.2857, 0.7143],\n",
      "        [0.3187, 0.6813],\n",
      "        [0.3369, 0.6631]], device='cuda:0', grad_fn=<SoftmaxBackward0>)\n",
      "tensor([[-3.3180,  1.7716],\n",
      "        [-2.5524,  1.4726],\n",
      "        [-2.3743,  1.4947],\n",
      "        ...,\n",
      "        [-0.2911,  0.6039],\n",
      "        [-0.4706,  0.2818],\n",
      "        [-0.1814,  0.4784]], device='cuda:0', grad_fn=<ScatterAddBackward0>)\n",
      "tensor([[0.0061, 0.9939],\n",
      "        [0.0176, 0.9824],\n",
      "        [0.0205, 0.9795],\n",
      "        ...,\n",
      "        [0.2901, 0.7099],\n",
      "        [0.3203, 0.6797],\n",
      "        [0.3408, 0.6592]], device='cuda:0', grad_fn=<SoftmaxBackward0>)\n",
      "tensor([[-3.3180,  1.7716],\n",
      "        [-2.5524,  1.4726],\n",
      "        [-2.3743,  1.4947],\n",
      "        ...,\n",
      "        [-0.2911,  0.6039],\n",
      "        [-0.4706,  0.2818],\n",
      "        [-0.1814,  0.4784]], device='cuda:0', grad_fn=<ScatterAddBackward0>)\n",
      "tensor([[0.0061, 0.9939],\n",
      "        [0.0176, 0.9824],\n",
      "        [0.0205, 0.9795],\n",
      "        ...,\n",
      "        [0.2901, 0.7099],\n",
      "        [0.3203, 0.6797],\n",
      "        [0.3408, 0.6592]], device='cuda:0', grad_fn=<SoftmaxBackward0>)\n",
      "Epoch: 000, Loss: -0.25510, Train Acc: 0.05801, Test Acc: 0.05581\n"
     ]
    }
   ],
   "source": [
    "device = torch.device('cuda' if torch.cuda.is_available() else 'cpu')\n",
    "\n",
    "dataset = BlogCatalogDataset()\n",
    "\n",
    "model = Net(dataset).to(device)\n",
    "data = dataset[0].to(device)\n",
    "optimizer = torch.optim.Adam(model.parameters(), lr=0.01, weight_decay=5e-4)\n",
    "\n",
    "train(data, epochs=1, plot=False)"
   ]
  },
  {
   "cell_type": "code",
   "execution_count": 568,
   "id": "2d5c9778",
   "metadata": {},
   "outputs": [
    {
     "name": "stdout",
     "output_type": "stream",
     "text": [
      "tensor([[-3.3180,  1.7716],\n",
      "        [-2.5524,  1.4726],\n",
      "        [-2.3743,  1.4947],\n",
      "        ...,\n",
      "        [-0.2911,  0.6039],\n",
      "        [-0.4706,  0.2818],\n",
      "        [-0.1814,  0.4784]], device='cuda:0', grad_fn=<ScatterAddBackward0>)\n",
      "tensor([[0.0061, 0.9939],\n",
      "        [0.0176, 0.9824],\n",
      "        [0.0205, 0.9795],\n",
      "        ...,\n",
      "        [0.2901, 0.7099],\n",
      "        [0.3203, 0.6797],\n",
      "        [0.3408, 0.6592]], device='cuda:0', grad_fn=<SoftmaxBackward0>)\n"
     ]
    },
    {
     "data": {
      "text/plain": [
       "0.055805003207184095"
      ]
     },
     "execution_count": 568,
     "metadata": {},
     "output_type": "execute_result"
    }
   ],
   "source": [
    "test(data, train=False)"
   ]
  },
  {
   "cell_type": "code",
   "execution_count": 554,
   "id": "088383e4",
   "metadata": {},
   "outputs": [],
   "source": [
    "pred = model(data)[data.test_mask].detach().cpu().numpy()\n",
    "true_y = data.y[data.test_mask].detach().cpu().numpy()"
   ]
  },
  {
   "cell_type": "code",
   "execution_count": 555,
   "id": "79fa6379",
   "metadata": {},
   "outputs": [
    {
     "data": {
      "text/plain": [
       "0.035928143712574856"
      ]
     },
     "execution_count": 555,
     "metadata": {},
     "output_type": "execute_result"
    }
   ],
   "source": [
    "f1_score(true_y, np.argmax(pred, axis=1))"
   ]
  },
  {
   "cell_type": "code",
   "execution_count": 556,
   "id": "78228120",
   "metadata": {},
   "outputs": [
    {
     "data": {
      "text/plain": [
       "0.491086488005997"
      ]
     },
     "execution_count": 556,
     "metadata": {},
     "output_type": "execute_result"
    }
   ],
   "source": [
    "roc_auc_score(true_y, np.argmax(pred, axis=1))"
   ]
  },
  {
   "cell_type": "code",
   "execution_count": 557,
   "id": "d6ea0be5",
   "metadata": {
    "scrolled": true
   },
   "outputs": [
    {
     "data": {
      "text/plain": [
       "array([0, 1])"
      ]
     },
     "execution_count": 557,
     "metadata": {},
     "output_type": "execute_result"
    }
   ],
   "source": [
    "np.unique(np.argmax(pred, axis=1))"
   ]
  },
  {
   "cell_type": "markdown",
   "id": "bd4b2917",
   "metadata": {},
   "source": [
    "## Belief Propogation"
   ]
  },
  {
   "cell_type": "code",
   "execution_count": 162,
   "id": "671a0c30",
   "metadata": {},
   "outputs": [],
   "source": [
    "from scipy.sparse import (csr_matrix,\n",
    "                          issparse)"
   ]
  },
  {
   "cell_type": "code",
   "execution_count": 163,
   "id": "2e827c79",
   "metadata": {},
   "outputs": [],
   "source": [
    "scores = scores.reshape(-1, 1)"
   ]
  },
  {
   "cell_type": "code",
   "execution_count": 164,
   "id": "63e18174",
   "metadata": {},
   "outputs": [],
   "source": [
    "# adjusted for homophily\n",
    "H = np.flip(create_parameterized_H(2, 8, symmetric=True), axis=1)\n",
    "\n",
    "W = csr_matrix(np.ones((len(scores), len(scores))))\n",
    "\n",
    "X = scores"
   ]
  },
  {
   "cell_type": "code",
   "execution_count": 165,
   "id": "7461907d",
   "metadata": {},
   "outputs": [],
   "source": [
    "from SSLH_inference import *"
   ]
  },
  {
   "cell_type": "code",
   "execution_count": 167,
   "id": "35ea0641",
   "metadata": {},
   "outputs": [
    {
     "ename": "AssertionError",
     "evalue": "",
     "output_type": "error",
     "traceback": [
      "\u001b[0;31m---------------------------------------------------------------------------\u001b[0m",
      "\u001b[0;31mAssertionError\u001b[0m                            Traceback (most recent call last)",
      "Input \u001b[0;32mIn [167]\u001b[0m, in \u001b[0;36m<cell line: 1>\u001b[0;34m()\u001b[0m\n\u001b[0;32m----> 1\u001b[0m out \u001b[38;5;241m=\u001b[39m \u001b[43mlinBP_symmetric\u001b[49m\u001b[43m(\u001b[49m\u001b[43mX\u001b[49m\u001b[43m,\u001b[49m\u001b[43m \u001b[49m\u001b[43mW\u001b[49m\u001b[43m,\u001b[49m\u001b[43m \u001b[49m\u001b[43mH\u001b[49m\u001b[43m)\u001b[49m\n",
      "Input \u001b[0;32mIn [61]\u001b[0m, in \u001b[0;36mlinBP_symmetric\u001b[0;34m(X, W, H, echo, compensation, numMaxIt, convergencePercentage, convergenceThreshold, similarity, debug)\u001b[0m\n\u001b[1;32m     68\u001b[0m k2, k3 \u001b[38;5;241m=\u001b[39m H\u001b[38;5;241m.\u001b[39mshape\n\u001b[1;32m     69\u001b[0m \u001b[38;5;28;01massert\u001b[39;00m(n1 \u001b[38;5;241m==\u001b[39m n2 \u001b[38;5;241m&\u001b[39m n2 \u001b[38;5;241m==\u001b[39m n3)\n\u001b[0;32m---> 70\u001b[0m \u001b[38;5;28;01massert\u001b[39;00m(k1 \u001b[38;5;241m==\u001b[39m k2 \u001b[38;5;241m&\u001b[39m k2 \u001b[38;5;241m==\u001b[39m k3)\n\u001b[1;32m     71\u001b[0m \u001b[38;5;66;03m# -- following part commented out (takes almost as long as 10 iterations)\u001b[39;00m\n\u001b[1;32m     72\u001b[0m \u001b[38;5;28;01massert\u001b[39;00m similarity \u001b[38;5;129;01min\u001b[39;00m (\u001b[38;5;124m'\u001b[39m\u001b[38;5;124maccuracy\u001b[39m\u001b[38;5;124m'\u001b[39m, \u001b[38;5;124m'\u001b[39m\u001b[38;5;124mcosine\u001b[39m\u001b[38;5;124m'\u001b[39m, \u001b[38;5;124m'\u001b[39m\u001b[38;5;124mcosine_ratio\u001b[39m\u001b[38;5;124m'\u001b[39m, \u001b[38;5;124m'\u001b[39m\u001b[38;5;124ml2\u001b[39m\u001b[38;5;124m'\u001b[39m)\n",
      "\u001b[0;31mAssertionError\u001b[0m: "
     ]
    }
   ],
   "source": [
    "out = linBP_symmetric(X, W, H)"
   ]
  },
  {
   "cell_type": "code",
   "execution_count": 142,
   "id": "e504601d",
   "metadata": {},
   "outputs": [],
   "source": [
    "# pred = np.argmax(out, axis=1)"
   ]
  },
  {
   "cell_type": "code",
   "execution_count": 149,
   "id": "17db91e9",
   "metadata": {},
   "outputs": [],
   "source": [
    "from sklearn.preprocessing import MinMaxScaler\n",
    "\n",
    "scale = MinMaxScaler()\n",
    "embeddings = scale.fit_transform(np.array(out))"
   ]
  },
  {
   "cell_type": "code",
   "execution_count": 157,
   "id": "23166ff3",
   "metadata": {
    "scrolled": true
   },
   "outputs": [
    {
     "data": {
      "text/plain": [
       "0.9080236831359739"
      ]
     },
     "execution_count": 157,
     "metadata": {},
     "output_type": "execute_result"
    }
   ],
   "source": [
    "roc_auc_score(labels, embeddings[:, 1])"
   ]
  },
  {
   "cell_type": "code",
   "execution_count": 119,
   "id": "325414b7",
   "metadata": {},
   "outputs": [
    {
     "data": {
      "text/plain": [
       "(array([0, 1]), array([4898,  298]))"
      ]
     },
     "execution_count": 119,
     "metadata": {},
     "output_type": "execute_result"
    }
   ],
   "source": [
    "np.unique(labels, return_counts=True)"
   ]
  },
  {
   "cell_type": "code",
   "execution_count": 121,
   "id": "7a686bc9",
   "metadata": {},
   "outputs": [
    {
     "data": {
      "text/plain": [
       "(array([0.        , 0.18395263, 0.18599428, 0.18721927, 0.18742344,\n",
       "        0.18783177, 0.18803593, 0.18926092, 0.19007758, 0.19130257,\n",
       "        0.19150674, 0.19273173, 0.19314006, 0.19416088, 0.19518171,\n",
       "        0.19599837, 0.19620253, 0.19701919, 0.19804002, 0.19844835,\n",
       "        0.19906084, 0.20008167, 0.20069416, 0.20171499, 0.20253165,\n",
       "        0.20314414, 0.20334831, 0.20436913, 0.2045733 , 0.20538996,\n",
       "        0.20661494, 0.20824826, 0.20988158, 0.21028991, 0.21131074,\n",
       "        0.2115149 , 0.21233156, 0.21335239, 0.21376072, 0.21539404,\n",
       "        0.2162107 , 0.21743569, 0.21866068, 0.21886484, 0.220294  ,\n",
       "        0.22131482, 0.22151899, 0.22294814, 0.22519396, 0.22539812,\n",
       "        0.22641895, 0.22682728, 0.22703144, 0.22886893, 0.23091058,\n",
       "        0.23336056, 0.23376889, 0.23560637, 0.2360147 , 0.23907717,\n",
       "        0.23928134, 0.24091466, 0.24111882, 0.24397713, 0.2441813 ,\n",
       "        0.24703961, 0.24744794, 0.24969375, 0.25010208, 0.25479788,\n",
       "        0.25500204, 0.25541037, 0.25561454, 0.25888118, 0.25928951,\n",
       "        0.26235198, 0.26316864, 0.26704777, 0.26725194, 0.26786443,\n",
       "        0.26990608, 0.27031441, 0.27092691, 0.27337689, 0.27378522,\n",
       "        0.27460188, 0.27501021, 0.27827685, 0.27848101, 0.27888934,\n",
       "        0.28154349, 0.28174765, 0.28215598, 0.28236015, 0.28603512,\n",
       "        0.28685178, 0.28828093, 0.29154757, 0.29236423, 0.2925684 ,\n",
       "        0.29685586, 0.29726419, 0.29787668, 0.29808085, 0.30257248,\n",
       "        0.30277664, 0.3035933 , 0.3042058 , 0.30808493, 0.3082891 ,\n",
       "        0.30869743, 0.30971825, 0.30992242, 0.31604737, 0.31625153,\n",
       "        0.31768069, 0.32319314, 0.32360147, 0.32441813, 0.32462229,\n",
       "        0.32645978, 0.32686811, 0.33135974, 0.3315639 , 0.33197223,\n",
       "        0.3321764 , 0.33340139, 0.33380972, 0.33809718, 0.33830135,\n",
       "        0.33870968, 0.34013883, 0.34054716, 0.34075133, 0.34585545,\n",
       "        0.34667211, 0.34830543, 0.3525929 , 0.35300122, 0.35402205,\n",
       "        0.35483871, 0.35912617, 0.35973867, 0.36239281, 0.36320947,\n",
       "        0.36851776, 0.37055941, 0.37096774, 0.37117191, 0.37158024,\n",
       "        0.37893018, 0.37933851, 0.3805635 , 0.38076766, 0.38138016,\n",
       "        0.38178849, 0.39056758, 0.39097591, 0.39199673, 0.39342589,\n",
       "        0.39363005, 0.39444671, 0.39485504, 0.40342997, 0.40363414,\n",
       "        0.40526746, 0.40587995, 0.40608412, 0.40669661, 0.41445488,\n",
       "        0.41506737, 0.41567987, 0.4160882 , 0.41812985, 0.41833401,\n",
       "        0.41894651, 0.41915067, 0.42792977, 0.42813393, 0.42854226,\n",
       "        0.42874643, 0.42976725, 0.42997142, 0.43140057, 0.4318089 ,\n",
       "        0.43303389, 0.43344222, 0.43425888, 0.43487138, 0.44160882,\n",
       "        0.44181298, 0.44262964, 0.44303797, 0.44630461, 0.44650878,\n",
       "        0.44712127, 0.44773377, 0.45794202, 0.45855451, 0.45937117,\n",
       "        0.45957534, 0.46161699, 0.46202532, 0.46325031, 0.46365864,\n",
       "        0.4644753 , 0.46467946, 0.47345855, 0.47366272, 0.47407105,\n",
       "        0.47427521, 0.47468354, 0.47529604, 0.47570437, 0.47754185,\n",
       "        0.47835851, 0.47897101, 0.49060841, 0.49122091, 0.49162924,\n",
       "        0.4918334 , 0.49428338, 0.49448755, 0.49632503, 0.4965292 ,\n",
       "        0.49734586, 0.49755002, 0.5075541 , 0.50796243, 0.50918742,\n",
       "        0.51020825, 0.51041241, 0.51327072, 0.51367905, 0.51551654,\n",
       "        0.5157207 , 0.51612903, 0.51653736, 0.52572479, 0.52694978,\n",
       "        0.52919559, 0.52960392, 0.53287056, 0.53307472, 0.53389138,\n",
       "        0.53409555, 0.53491221, 0.5355247 , 0.53572887, 0.54716211,\n",
       "        0.54757044, 0.54797877, 0.54961209, 0.55002042, 0.55022458,\n",
       "        0.55389955, 0.55430788, 0.5559412 , 0.5565537 , 0.55716619,\n",
       "        0.55757452, 0.55777869, 0.56859943, 0.56921192, 0.56962025,\n",
       "        0.57023275, 0.57145774, 0.5716619 , 0.57207023, 0.57513271,\n",
       "        0.57737852, 0.57758269, 0.57880768, 0.57942017, 0.58901592,\n",
       "        0.58983258, 0.59064924, 0.59105757, 0.59269089, 0.59371172,\n",
       "        0.59412005, 0.59452838, 0.59677419, 0.59718252, 0.59902001,\n",
       "        0.59942834, 0.60004083, 0.600245  , 0.60065333, 0.61167824,\n",
       "        0.61208657, 0.61331156, 0.61453655, 0.61535321, 0.6159657 ,\n",
       "        0.61861984, 0.61902817, 0.620049  , 0.62025316, 0.62066149,\n",
       "        0.62086566, 0.62127399, 0.62229481, 0.62290731, 0.6235198 ,\n",
       "        0.63474888, 0.63515721, 0.6363822 , 0.63658636, 0.63760719,\n",
       "        0.63821968, 0.64189465, 0.64209882, 0.64291548, 0.64475296,\n",
       "        0.64597795, 0.64659045, 0.64679461, 0.64761127, 0.64842793,\n",
       "        0.66333197, 0.6637403 , 0.66414863, 0.66496529, 0.66516946,\n",
       "        0.66557779, 0.66578195, 0.66721111, 0.66741527, 0.6678236 ,\n",
       "        0.67170274, 0.67211107, 0.67231523, 0.67456105, 0.67476521,\n",
       "        0.67537771, 0.67578604, 0.68660678, 0.68721927, 0.68783177,\n",
       "        0.68844426, 0.68926092, 0.68946509, 0.69028175, 0.6957942 ,\n",
       "        0.69620253, 0.69763169, 0.69783585, 0.69865251, 0.69967334,\n",
       "        0.70008167, 0.70069416, 0.71131074, 0.7121274 , 0.71335239,\n",
       "        0.71518987, 0.71539404, 0.7162107 , 0.71641486, 0.7196815 ,\n",
       "        0.720294  , 0.72233565, 0.72274398, 0.72315231, 0.72601062,\n",
       "        0.72682728, 0.72764394, 0.73519804, 0.73581053, 0.73642303,\n",
       "        0.73662719, 0.73703552, 0.73744385, 0.73887301, 0.73968967,\n",
       "        0.740098  , 0.7441813 , 0.74438546, 0.74479379, 0.74520212,\n",
       "        0.74724377, 0.74744794, 0.74846876, 0.74928542, 0.74969375,\n",
       "        0.75010208, 0.75867701, 0.75908534, 0.75969784, 0.76071866,\n",
       "        0.76112699, 0.76133116, 0.76439363, 0.76500612, 0.77133524,\n",
       "        0.7721519 , 0.77439771, 0.77460188, 0.77541854, 0.7756227 ,\n",
       "        0.7762352 , 0.77664353, 0.77705186, 0.78276848, 0.78317681,\n",
       "        0.78358514, 0.7844018 , 0.78542262, 0.78583095, 0.78603512,\n",
       "        0.7878726 , 0.78868926, 0.78909759, 0.79624336, 0.79644753,\n",
       "        0.79726419, 0.79746835, 0.79971417, 0.79991833, 0.80073499,\n",
       "        0.80114332, 0.80175582, 0.80236831, 0.80951409, 0.80992242,\n",
       "        0.81053491, 0.81135157, 0.81196407, 0.8123724 , 0.81257656,\n",
       "        0.81380155, 0.81420988, 0.81502654, 0.8199265 , 0.82013067,\n",
       "        0.820539  , 0.82074316, 0.82135566, 0.82155982, 0.82339731,\n",
       "        0.82380563, 0.8240098 , 0.82564312, 0.82584728, 0.82625561,\n",
       "        0.82686811, 0.83421805, 0.83483054, 0.83523887, 0.83544304,\n",
       "        0.83605553, 0.83687219, 0.83748469, 0.83768885, 0.8397305 ,\n",
       "        0.84013883, 0.84075133, 0.84483463, 0.84544712, 0.84708044,\n",
       "        0.84728461, 0.84830543, 0.84953042, 0.85626786, 0.85688036,\n",
       "        0.85769702, 0.85851368, 0.86055533, 0.86075949, 0.86484279,\n",
       "        0.86504696, 0.86565945, 0.86586362, 0.86627195, 0.86872193,\n",
       "        0.86933442, 0.87035525, 0.87096774, 0.87117191, 0.87913434,\n",
       "        0.87974684, 0.8805635 , 0.88240098, 0.88464679, 0.88485096,\n",
       "        0.88566762, 0.88587178, 0.88668844, 0.88689261, 0.89465088,\n",
       "        0.89505921, 0.8956717 , 0.89587587, 0.89791752, 0.89812168,\n",
       "        0.89914251, 0.9003675 , 0.90751327, 0.9085341 , 0.90914659,\n",
       "        0.9120049 , 0.91241323, 0.91261739, 0.91812985, 0.91915067,\n",
       "        0.91976317, 0.92262148, 0.92343814, 0.9236423 , 0.92445896,\n",
       "        0.92486729, 0.92527562, 0.93119641, 0.93140057, 0.93221723,\n",
       "        0.9324214 , 0.93487138, 0.93507554, 0.93732136, 0.93854635,\n",
       "        0.93875051, 0.94181298, 0.94201715, 0.94262964, 0.94487546,\n",
       "        0.94548795, 0.94589628, 0.94671294, 0.9475296 , 0.94773377,\n",
       "        0.95283789, 0.95345039, 0.95385872, 0.95406288, 0.95447121,\n",
       "        0.95753369, 0.95794202, 0.95957534, 0.95998367, 0.96100449,\n",
       "        0.96182115, 0.96243365, 0.96284198, 0.9685586 , 0.96917109,\n",
       "        0.96998775, 0.97264189, 0.97284606, 0.97488771, 0.9755002 ,\n",
       "        0.97590853, 0.97835851, 0.97876684, 0.97999183, 0.980196  ,\n",
       "        0.98264598, 0.98285014, 0.98325847, 0.98346264, 0.98509596,\n",
       "        0.98530012, 0.98693344, 0.98734177, 0.98917926, 0.98958759,\n",
       "        0.99060841, 0.99101674, 0.9918334 , 0.99203757, 0.99285423,\n",
       "        0.99305839, 0.99367089, 0.99448755, 0.99469171, 0.99510004,\n",
       "        0.99550837, 0.9959167 , 0.99673336, 0.99836668, 0.99897918,\n",
       "        1.        ]),\n",
       " array([0., 1., 1., 1., 1., 1., 1., 1., 1., 1., 1., 1., 1., 1., 1., 1., 1.,\n",
       "        1., 1., 1., 1., 1., 1., 1., 1., 1., 1., 1., 1., 1., 1., 1., 1., 1.,\n",
       "        1., 1., 1., 1., 1., 1., 1., 1., 1., 1., 1., 1., 1., 1., 1., 1., 1.,\n",
       "        1., 1., 1., 1., 1., 1., 1., 1., 1., 1., 1., 1., 1., 1., 1., 1., 1.,\n",
       "        1., 1., 1., 1., 1., 1., 1., 1., 1., 1., 1., 1., 1., 1., 1., 1., 1.,\n",
       "        1., 1., 1., 1., 1., 1., 1., 1., 1., 1., 1., 1., 1., 1., 1., 1., 1.,\n",
       "        1., 1., 1., 1., 1., 1., 1., 1., 1., 1., 1., 1., 1., 1., 1., 1., 1.,\n",
       "        1., 1., 1., 1., 1., 1., 1., 1., 1., 1., 1., 1., 1., 1., 1., 1., 1.,\n",
       "        1., 1., 1., 1., 1., 1., 1., 1., 1., 1., 1., 1., 1., 1., 1., 1., 1.,\n",
       "        1., 1., 1., 1., 1., 1., 1., 1., 1., 1., 1., 1., 1., 1., 1., 1., 1.,\n",
       "        1., 1., 1., 1., 1., 1., 1., 1., 1., 1., 1., 1., 1., 1., 1., 1., 1.,\n",
       "        1., 1., 1., 1., 1., 1., 1., 1., 1., 1., 1., 1., 1., 1., 1., 1., 1.,\n",
       "        1., 1., 1., 1., 1., 1., 1., 1., 1., 1., 1., 1., 1., 1., 1., 1., 1.,\n",
       "        1., 1., 1., 1., 1., 1., 1., 1., 1., 1., 1., 1., 1., 1., 1., 1., 1.,\n",
       "        1., 1., 1., 1., 1., 1., 1., 1., 1., 1., 1., 1., 1., 1., 1., 1., 1.,\n",
       "        1., 1., 1., 1., 1., 1., 1., 1., 1., 1., 1., 1., 1., 1., 1., 1., 1.,\n",
       "        1., 1., 1., 1., 1., 1., 1., 1., 1., 1., 1., 1., 1., 1., 1., 1., 1.,\n",
       "        1., 1., 1., 1., 1., 1., 1., 1., 1., 1., 1., 1., 1., 1., 1., 1., 1.,\n",
       "        1., 1., 1., 1., 1., 1., 1., 1., 1., 1., 1., 1., 1., 1., 1., 1., 1.,\n",
       "        1., 1., 1., 1., 1., 1., 1., 1., 1., 1., 1., 1., 1., 1., 1., 1., 1.,\n",
       "        1., 1., 1., 1., 1., 1., 1., 1., 1., 1., 1., 1., 1., 1., 1., 1., 1.,\n",
       "        1., 1., 1., 1., 1., 1., 1., 1., 1., 1., 1., 1., 1., 1., 1., 1., 1.,\n",
       "        1., 1., 1., 1., 1., 1., 1., 1., 1., 1., 1., 1., 1., 1., 1., 1., 1.,\n",
       "        1., 1., 1., 1., 1., 1., 1., 1., 1., 1., 1., 1., 1., 1., 1., 1., 1.,\n",
       "        1., 1., 1., 1., 1., 1., 1., 1., 1., 1., 1., 1., 1., 1., 1., 1., 1.,\n",
       "        1., 1., 1., 1., 1., 1., 1., 1., 1., 1., 1., 1., 1., 1., 1., 1., 1.,\n",
       "        1., 1., 1., 1., 1., 1., 1., 1., 1., 1., 1., 1., 1., 1., 1., 1., 1.,\n",
       "        1., 1., 1., 1., 1., 1., 1., 1., 1., 1., 1., 1., 1., 1., 1., 1., 1.,\n",
       "        1., 1., 1., 1., 1., 1., 1., 1., 1., 1., 1., 1., 1., 1., 1., 1., 1.,\n",
       "        1., 1., 1., 1., 1., 1., 1., 1., 1., 1., 1., 1., 1., 1., 1., 1., 1.,\n",
       "        1., 1., 1., 1., 1., 1., 1., 1., 1., 1., 1., 1., 1., 1., 1., 1., 1.,\n",
       "        1., 1., 1., 1., 1., 1., 1., 1., 1., 1., 1., 1., 1., 1., 1., 1., 1.,\n",
       "        1., 1., 1., 1., 1., 1., 1., 1., 1., 1., 1., 1., 1., 1., 1., 1., 1.,\n",
       "        1., 1., 1., 1., 1., 1., 1., 1., 1., 1., 1., 1., 1., 1., 1., 1., 1.,\n",
       "        1., 1., 1.]),\n",
       " array([ 6.11564061e+35,  6.11564061e+35,  5.02913013e+35,  4.98635413e+35,\n",
       "         4.96828554e+35,  4.95903268e+35,  4.94962936e+35,  4.90022211e+35,\n",
       "         4.83511040e+35,  4.81182803e+35,  4.78768336e+35,  4.77527254e+35,\n",
       "         4.76262756e+35,  4.68144678e+35,  4.66695997e+35,  4.63709027e+35,\n",
       "         4.62168870e+35,  4.60596289e+35,  4.58990249e+35,  4.57349670e+35,\n",
       "         4.55673427e+35,  4.53960343e+35,  4.52209191e+35,  4.50418686e+35,\n",
       "         4.48587489e+35,  4.46714195e+35,  4.46080157e+35,  4.44797336e+35,\n",
       "         4.41836980e+35,  4.40826700e+35,  4.38769623e+35,  4.34503094e+35,\n",
       "         4.32289832e+35,  4.31162321e+35,  4.30020538e+35,  4.29444209e+35,\n",
       "         4.27693057e+35,  4.25305122e+35,  4.23678406e+35,  4.22854346e+35,\n",
       "         4.20338217e+35,  4.16435648e+35,  4.15099152e+35,  4.14197937e+35,\n",
       "         4.12370473e+35,  4.09564930e+35,  4.06679228e+35,  4.03709882e+35,\n",
       "         4.00653203e+35,  3.99090901e+35,  3.97505280e+35,  3.95895816e+35,\n",
       "         3.95353936e+35,  3.94261965e+35,  3.90918856e+35,  3.87471275e+35,\n",
       "         3.85706765e+35,  3.83914246e+35,  3.81479489e+35,  3.80242475e+35,\n",
       "         3.78361812e+35,  3.76450318e+35,  3.74507229e+35,  3.72531756e+35,\n",
       "         3.70523081e+35,  3.68480361e+35,  3.66402722e+35,  3.64289262e+35,\n",
       "         3.62139047e+35,  3.59951108e+35,  3.58471032e+35,  3.57724445e+35,\n",
       "         3.56973440e+35,  3.55458020e+35,  3.53150758e+35,  3.50801546e+35,\n",
       "         3.48409229e+35,  3.45972611e+35,  3.44322974e+35,  3.43490448e+35,\n",
       "         3.40961451e+35,  3.37732303e+35,  3.37514284e+35,  3.35757555e+35,\n",
       "         3.33978158e+35,  3.33079822e+35,  3.32175652e+35,  3.30349584e+35,\n",
       "         3.27565282e+35,  3.26624889e+35,  3.24725295e+35,  3.22800202e+35,\n",
       "         3.21827933e+35,  3.20849095e+35,  3.18871442e+35,  3.16866698e+35,\n",
       "         3.15853993e+35,  3.12773679e+35,  3.09628518e+35,  3.08565364e+35,\n",
       "         3.06416437e+35,  3.04236811e+35,  3.03135280e+35,  3.02025824e+35,\n",
       "         2.99782793e+35,  2.98421303e+35,  2.96356626e+35,  2.94264541e+35,\n",
       "         2.92854321e+35,  2.91073819e+35,  2.90475890e+35,  2.89273312e+35,\n",
       "         2.88061693e+35,  2.85610918e+35,  2.83122726e+35,  2.81864330e+35,\n",
       "         2.78030612e+35,  2.76080124e+35,  2.75424882e+35,  2.74898842e+35,\n",
       "         2.74106689e+35,  2.72109900e+35,  2.70089339e+35,  2.68044580e+35,\n",
       "         2.67357542e+35,  2.66805929e+35,  2.65975186e+35,  2.64581682e+35,\n",
       "         2.61760688e+35,  2.59614655e+35,  2.58893447e+35,  2.57442127e+35,\n",
       "         2.55978814e+35,  2.55242612e+35,  2.53015603e+35,  2.50002591e+35,\n",
       "         2.48477015e+35,  2.43822053e+35,  2.40651863e+35,  2.39046183e+35,\n",
       "         2.36120650e+35,  2.34144632e+35,  2.29839467e+35,  2.29112373e+35,\n",
       "         2.25682313e+35,  2.23944107e+35,  2.18634244e+35,  2.16831814e+35,\n",
       "         2.15924383e+35,  2.15377920e+35,  2.13176886e+35,  2.09453641e+35,\n",
       "         2.07565799e+35,  2.06424561e+35,  2.05660147e+35,  2.04700563e+35,\n",
       "         2.01794395e+35,  1.98846412e+35,  1.97854302e+35,  1.95855704e+35,\n",
       "         1.94647250e+35,  1.93837702e+35,  1.92821337e+35,  1.89742346e+35,\n",
       "         1.85565893e+35,  1.83446500e+35,  1.81305912e+35,  1.80875223e+35,\n",
       "         1.80227571e+35,  1.76959870e+35,  1.73164200e+35,  1.72525133e+35,\n",
       "         1.71627303e+35,  1.70273652e+35,  1.68911644e+35,  1.67998959e+35,\n",
       "         1.66162250e+35,  1.63378489e+35,  1.61620898e+35,  1.61031968e+35,\n",
       "         1.59849469e+35,  1.58660746e+35,  1.57705254e+35,  1.56264432e+35,\n",
       "         1.54814433e+35,  1.53842626e+35,  1.53145942e+35,  1.52622035e+35,\n",
       "         1.50778895e+35,  1.48920890e+35,  1.45916713e+35,  1.45159563e+35,\n",
       "         1.43892160e+35,  1.41336576e+35,  1.39789775e+35,  1.38752908e+35,\n",
       "         1.36379358e+35,  1.33499451e+35,  1.29482101e+35,  1.28127938e+35,\n",
       "         1.27290819e+35,  1.25396661e+35,  1.23743030e+35,  1.22634346e+35,\n",
       "         1.21622069e+35,  1.21241384e+35,  1.19438727e+35,  1.17014464e+35,\n",
       "         1.14155796e+35,  1.13580092e+35,  1.12714033e+35,  1.12093573e+35,\n",
       "         1.11263888e+35,  1.10097687e+35,  1.08338156e+35,  1.06566233e+35,\n",
       "         1.02984688e+35,  9.93519787e+34,  9.40714417e+34,  9.31807488e+34,\n",
       "         9.06704179e+34,  9.00390317e+34,  8.86808936e+34,  8.68590010e+34,\n",
       "         8.62183355e+34,  8.42869174e+34,  8.36399516e+34,  8.03811608e+34,\n",
       "         7.64171093e+34,  7.37413746e+34,  7.23934480e+34,  7.14910704e+34,\n",
       "         7.03588419e+34,  6.83088222e+34,  6.69334925e+34,  6.62432129e+34,\n",
       "         6.52045065e+34,  6.34645079e+34,  5.99510493e+34,  5.38220158e+34,\n",
       "         5.27872439e+34,  5.13320960e+34,  4.91351079e+34,  4.79070971e+34,\n",
       "         4.54349174e+34,  4.43687608e+34,  4.35665044e+34,  4.24395251e+34,\n",
       "         4.16857178e+34,  3.78865288e+34,  3.32600971e+34,  3.20918063e+34,\n",
       "         3.01341297e+34,  2.85584389e+34,  2.73710547e+34,  2.61788241e+34,\n",
       "         2.37797043e+34,  2.21693362e+34,  2.01439248e+34,  1.84763868e+34,\n",
       "         1.81045450e+34,  1.57565350e+34,  1.39832983e+34,  9.42161313e+33,\n",
       "         8.96161126e+33,  6.78353012e+33,  5.56666788e+33,  3.85481084e+33,\n",
       "         3.11819357e+33,  1.26881404e+33, -3.09043772e+33, -4.34739989e+33,\n",
       "        -5.29350044e+33, -8.14932248e+33, -1.19984739e+34, -1.65500253e+34,\n",
       "        -1.74683207e+34, -1.80820109e+34, -1.88508095e+34, -2.11685112e+34,\n",
       "        -2.23337646e+34, -2.30349790e+34, -2.58554191e+34, -2.94164218e+34,\n",
       "        -3.06122809e+34, -3.25349646e+34, -3.30174358e+34, -3.44691959e+34,\n",
       "        -3.73924233e+34, -4.03422255e+34, -4.46030509e+34, -4.63230171e+34,\n",
       "        -4.78354012e+34, -5.03715530e+34, -5.24145641e+34, -5.55028368e+34,\n",
       "        -5.77263931e+34, -5.86199718e+34, -6.01894895e+34, -6.07142969e+34,\n",
       "        -6.22182754e+34, -6.33506827e+34, -6.49424627e+34, -6.60078273e+34,\n",
       "        -6.93588258e+34, -7.13853820e+34, -7.50180918e+34, -7.96136885e+34,\n",
       "        -8.10863684e+34, -8.24006956e+34, -8.46465362e+34, -8.80426855e+34,\n",
       "        -8.93577357e+34, -9.14721303e+34, -9.37771670e+34, -9.66798058e+34,\n",
       "        -9.84328847e+34, -9.88725112e+34, -9.96064333e+34, -1.02288072e+35,\n",
       "        -1.05532854e+35, -1.10042898e+35, -1.12776257e+35, -1.14610030e+35,\n",
       "        -1.15632811e+35, -1.15925563e+35, -1.17037083e+35, -1.17687039e+35,\n",
       "        -1.19235343e+35, -1.21235706e+35, -1.23919954e+35, -1.26623940e+35,\n",
       "        -1.27711109e+35, -1.30260334e+35, -1.32091999e+35, -1.33471695e+35,\n",
       "        -1.35411892e+35, -1.43274797e+35, -1.49954787e+35, -1.51304998e+35,\n",
       "        -1.56032637e+35, -1.56754062e+35, -1.58003360e+35, -1.60694155e+35,\n",
       "        -1.63675847e+35, -1.66680653e+35, -1.70723483e+35, -1.72148414e+35,\n",
       "        -1.74295572e+35, -1.76454527e+35, -1.77900433e+35, -1.82887332e+35,\n",
       "        -1.85210289e+35, -1.94162810e+35, -1.96432463e+35, -2.00243767e+35,\n",
       "        -2.01638626e+35, -2.03318797e+35, -2.04643810e+35, -2.07975270e+35,\n",
       "        -2.12685267e+35, -2.15855456e+35, -2.17449714e+35, -2.18758683e+35,\n",
       "        -2.19852652e+35, -2.23888656e+35, -2.28989099e+35, -2.32079368e+35,\n",
       "        -2.38328579e+35, -2.40432274e+35, -2.41199838e+35, -2.42122743e+35,\n",
       "        -2.46500624e+35, -2.48952237e+35, -2.53897733e+35, -2.55622906e+35,\n",
       "        -2.57644321e+35, -2.61423488e+35, -2.62944372e+35, -2.64887724e+35,\n",
       "        -2.66513794e+35, -2.69081273e+35, -2.71016757e+35, -2.76874595e+35,\n",
       "        -2.77858469e+35, -2.80518226e+35, -2.84807083e+35, -2.92882498e+35,\n",
       "        -2.96153553e+35, -2.99035196e+35, -3.01104740e+35, -3.01935194e+35,\n",
       "        -3.03878809e+35, -3.10417687e+35, -3.13722281e+35, -3.22329596e+35,\n",
       "        -3.23779741e+35, -3.27491423e+35, -3.28890909e+35, -3.32761095e+35,\n",
       "        -3.34058244e+35, -3.35545072e+35, -3.37124465e+35, -3.44565159e+35,\n",
       "        -3.52599858e+35, -3.55308184e+35, -3.57485824e+35, -3.60770739e+35,\n",
       "        -3.63130775e+35, -3.64078000e+35, -3.66295369e+35, -3.70760480e+35,\n",
       "        -3.73759944e+35, -3.77535132e+35, -3.81339360e+35, -3.84403876e+35,\n",
       "        -3.86135995e+35, -3.89036285e+35, -3.92929672e+35, -3.94887749e+35,\n",
       "        -3.98431594e+35, -4.00808054e+35, -4.04793771e+35, -4.12860103e+35,\n",
       "        -4.23421177e+35, -4.25202563e+35, -4.27706830e+35, -4.31485997e+35,\n",
       "        -4.34202273e+35, -4.35292749e+35, -4.37846058e+35, -4.41798639e+35,\n",
       "        -4.47236753e+35, -4.50801739e+35, -4.54390813e+35, -4.55191680e+35,\n",
       "        -4.56452621e+35, -4.58729842e+35, -4.60730391e+35, -4.64081311e+35,\n",
       "        -4.67936671e+35, -4.68992934e+35, -4.70846377e+35, -4.73120348e+35,\n",
       "        -4.77697076e+35, -4.84000670e+35, -4.91661962e+35, -5.03920029e+35,\n",
       "        -5.04874250e+35, -5.05989573e+35, -5.08899869e+35, -5.13293845e+35,\n",
       "        -5.16453558e+35, -5.17722419e+35, -5.20694226e+35, -5.23409473e+35,\n",
       "        -5.26685010e+35, -5.35791003e+35, -5.45043866e+35, -5.51295801e+35,\n",
       "        -5.56557610e+35, -5.59206412e+35, -5.74611287e+35, -5.83597464e+35,\n",
       "        -5.97997000e+35, -6.07791017e+35, -6.12747745e+35, -6.17744936e+35,\n",
       "        -6.22151061e+35, -6.35561008e+35, -6.39745992e+35, -6.43355540e+35,\n",
       "        -6.46500702e+35, -6.49265679e+35, -6.53901083e+35, -6.59240598e+35,\n",
       "        -6.63274899e+35, -6.72788622e+35, -6.79210386e+35, -6.92248512e+35,\n",
       "        -7.09403940e+35, -7.16393189e+35, -7.22569734e+35, -7.32992654e+35,\n",
       "        -7.36823300e+35, -7.41448986e+35, -7.43579715e+35, -7.47145883e+35,\n",
       "        -7.48447329e+35, -7.54334824e+35, -7.63690296e+35, -7.67468468e+35,\n",
       "        -7.69511479e+35, -7.76365452e+35, -7.82791051e+35, -7.87649431e+35,\n",
       "        -8.02429856e+35, -8.22629769e+35, -8.53472647e+35, -8.59403969e+35,\n",
       "        -8.72084728e+35, -8.82387845e+35, -8.93943274e+35, -8.98113654e+35,\n",
       "        -9.14174056e+35, -9.20099252e+35, -9.25072185e+35, -9.38915755e+35,\n",
       "        -9.42145921e+35, -9.47342276e+35, -9.53011026e+35, -9.69437011e+35,\n",
       "        -9.81984639e+35, -1.00442899e+36, -1.01205160e+36, -1.01820165e+36,\n",
       "        -1.02751460e+36, -1.03423214e+36, -1.04327497e+36, -1.05610318e+36,\n",
       "        -1.06476639e+36, -1.07572280e+36, -1.08682337e+36, -1.09580955e+36,\n",
       "        -1.10946853e+36, -1.12685270e+36, -1.13272573e+36, -1.13745280e+36,\n",
       "        -1.15359758e+36, -1.15662011e+36, -1.18117823e+36, -1.20963445e+36,\n",
       "        -1.22714598e+36, -1.23442800e+36, -1.23900862e+36, -1.25912354e+36,\n",
       "        -1.27553308e+36, -1.30069438e+36, -1.31908148e+36, -1.32653571e+36,\n",
       "        -1.34415480e+36, -1.36663432e+36, -1.38037181e+36, -1.43728427e+36,\n",
       "        -1.49754451e+36, -1.51316754e+36, -1.53972668e+36, -1.56145689e+36,\n",
       "        -1.59488798e+36, -1.62936380e+36, -1.63815175e+36, -1.65295251e+36,\n",
       "        -1.67010794e+36, -1.68314607e+36, -1.74601484e+36, -1.77875899e+36,\n",
       "        -1.81553319e+36, -1.86118392e+36, -1.87069449e+36, -1.88268608e+36,\n",
       "        -1.89827514e+36, -1.91936623e+36, -1.97795258e+36, -1.99606108e+36,\n",
       "        -2.07754937e+36, -2.12023371e+36, -2.16429496e+36, -2.25682360e+36,\n",
       "        -2.39023698e+36, -2.40779137e+36, -2.46170843e+36, -2.50624861e+36,\n",
       "        -2.57553334e+36, -2.61537206e+36, -2.62693813e+36, -2.76300966e+36,\n",
       "        -2.80318315e+36, -2.97392051e+36, -3.40417866e+36, -3.48613259e+36,\n",
       "        -5.36424356e+36]))"
      ]
     },
     "execution_count": 121,
     "metadata": {},
     "output_type": "execute_result"
    }
   ],
   "source": [
    "roc_curve(labels, out)"
   ]
  },
  {
   "cell_type": "code",
   "execution_count": 122,
   "id": "5d2a1c46",
   "metadata": {},
   "outputs": [
    {
     "data": {
      "text/plain": [
       "array([[ 1.27290819e+35],\n",
       "       [ 1.95891216e+34],\n",
       "       [ 2.73710547e+34],\n",
       "       ...,\n",
       "       [-2.84807083e+35],\n",
       "       [ 6.11564061e+35],\n",
       "       [-8.98113654e+35]])"
      ]
     },
     "execution_count": 122,
     "metadata": {},
     "output_type": "execute_result"
    }
   ],
   "source": [
    "out"
   ]
  },
  {
   "cell_type": "code",
   "execution_count": 129,
   "id": "7b4533a9",
   "metadata": {},
   "outputs": [
    {
     "data": {
      "text/plain": [
       "<seaborn.axisgrid.FacetGrid at 0x7fc43c2e4040>"
      ]
     },
     "execution_count": 129,
     "metadata": {},
     "output_type": "execute_result"
    },
    {
     "data": {
      "image/png": "[encoded data removed]",
      "text/plain": [
       "<Figure size 558.875x500 with 1 Axes>"
      ]
     },
     "metadata": {},
     "output_type": "display_data"
    }
   ],
   "source": [
    "sns.displot(out[labels])"
   ]
  },
  {
   "cell_type": "code",
   "execution_count": 131,
   "id": "f772f85d",
   "metadata": {},
   "outputs": [
    {
     "data": {
      "text/plain": [
       "<seaborn.axisgrid.FacetGrid at 0x7fc43c100850>"
      ]
     },
     "execution_count": 131,
     "metadata": {},
     "output_type": "execute_result"
    },
    {
     "data": {
      "image/png": "[encoded data removed]",
      "text/plain": [
       "<Figure size 558.875x500 with 1 Axes>"
      ]
     },
     "metadata": {},
     "output_type": "display_data"
    }
   ],
   "source": [
    "sns.displot(out[~np.array(labels)])"
   ]
  },
  {
   "cell_type": "code",
   "execution_count": 136,
   "id": "ef24c619",
   "metadata": {},
   "outputs": [
    {
     "data": {
      "text/plain": [
       "array([[1.]])"
      ]
     },
     "execution_count": 136,
     "metadata": {},
     "output_type": "execute_result"
    }
   ],
   "source": [
    "create_parameterized_H(1, 8, symmetric=True)"
   ]
  },
  {
   "cell_type": "markdown",
   "id": "3d8e9e71",
   "metadata": {},
   "source": [
    "# Clustering -> Scoring -> BP"
   ]
  },
  {
   "cell_type": "code",
   "execution_count": 239,
   "id": "9918583f",
   "metadata": {},
   "outputs": [
    {
     "name": "stdout",
     "output_type": "stream",
     "text": [
      "Graph with 16484 nodes and 90557 edges\n"
     ]
    },
    {
     "data": {
      "application/vnd.jupyter.widget-view+json": {
       "model_id": "69ff658e003c49419faf4551f607e78d",
       "version_major": 2,
       "version_minor": 0
      },
      "text/plain": [
       "  0%|          | 0/16445 [00:00<?, ?it/s]"
      ]
     },
     "metadata": {},
     "output_type": "display_data"
    },
    {
     "name": "stdout",
     "output_type": "stream",
     "text": [
      "Using 16445 egonets\n"
     ]
    }
   ],
   "source": [
    "G, ego_gs, labels, roots = load_network('datasets/ACM.mat')\n",
    "\n",
    "labels = [int(l) for l in labels]\n",
    "\n",
    "print(f'Using {len(ego_gs)} egonets')"
   ]
  },
  {
   "cell_type": "code",
   "execution_count": 240,
   "id": "ccd68c6f",
   "metadata": {},
   "outputs": [
    {
     "name": "stdout",
     "output_type": "stream",
     "text": [
      "Input a slice size for tensor: 1000\n"
     ]
    }
   ],
   "source": [
    "slice_size = int(input(\"Input a slice size for tensor: \"))"
   ]
  },
  {
   "cell_type": "code",
   "execution_count": null,
   "id": "ad4130fc",
   "metadata": {},
   "outputs": [
    {
     "data": {
      "application/vnd.jupyter.widget-view+json": {
       "model_id": "dc93f83c8df346c4a8a8c662fe6b9362",
       "version_major": 2,
       "version_minor": 0
      },
      "text/plain": [
       "  0%|          | 0/16445 [00:00<?, ?it/s]"
      ]
     },
     "metadata": {},
     "output_type": "display_data"
    }
   ],
   "source": [
    "padded_gs = []\n",
    "for gs in tqdm(ego_gs):\n",
    "    g = nx.to_numpy_array(gs)\n",
    "    padded = np.zeros((slice_size, slice_size))\n",
    "    if len(padded) >= len(g):\n",
    "        padded[:g.shape[0], :g.shape[1]] = g\n",
    "    else:\n",
    "        padded = g[:slice_size, :slice_size]\n",
    "    padded_gs.append(padded)"
   ]
  },
  {
   "cell_type": "code",
   "execution_count": null,
   "id": "7710ac52",
   "metadata": {},
   "outputs": [],
   "source": [
    "with open(input('Enter file path: '), 'rb') as f:\n",
    "    factors = pickle.load(f)\n",
    "    f.close()\n",
    "\n",
    "A, B, C = factors\n",
    "A, B, C, = np.array(A), np.array(B), np.array(C)"
   ]
  },
  {
   "cell_type": "code",
   "execution_count": null,
   "id": "a401bba7",
   "metadata": {},
   "outputs": [],
   "source": [
    "errors = []\n",
    "for gs in tqdm(padded_gs):\n",
    "    gs_p = (A @ ((A.T @ gs) @ B) @ B.T)\n",
    "    d = np.linalg.norm(gs - gs_p)\n",
    "    errors.append(d)"
   ]
  },
  {
   "cell_type": "code",
   "execution_count": null,
   "id": "5fd3d598",
   "metadata": {},
   "outputs": [],
   "source": [
    "errors = np.array(errors).reshape(-1, 1)"
   ]
  },
  {
   "cell_type": "code",
   "execution_count": null,
   "id": "8ad6a0bb",
   "metadata": {},
   "outputs": [],
   "source": [
    "from pyod.models.suod import SUOD\n",
    "from pyod.models.auto_encoder import AutoEncoder\n",
    "from pyod.models.anogan import AnoGAN\n",
    "from pyod.models.cblof import CBLOF\n",
    "from pyod.models.deep_svdd import DeepSVDD\n",
    "from pyod.models.iforest import IForest\n",
    "from pyod.models.lof import LOF\n",
    "from pyod.models.cof import COF\n",
    "from pyod.models.gmm import GMM\n",
    "from pyod.models.hbos import HBOS\n",
    "from pyod.models.inne import INNE\n",
    "from pyod.models.copod import COPOD\n",
    "from pyod.models.knn import KNN\n",
    "from pyod.models.lmdd import LMDD\n",
    "from pyod.models.ocsvm import OCSVM\n",
    "from pyod.models.mad import MAD\n",
    "from pyod.models.pca import PCA\n",
    "from pyod.models.so_gaal import SO_GAAL\n",
    "from pyod.models.xgbod import XGBOD\n",
    "from pyod.models.kde import KDE\n",
    "\n",
    "from pyod.utils.data import evaluate_print\n",
    "from pyod.utils.example import visualize"
   ]
  },
  {
   "cell_type": "code",
   "execution_count": null,
   "id": "78f5b7a0",
   "metadata": {},
   "outputs": [],
   "source": [
    "clf = KDE(algorithm='auto')"
   ]
  },
  {
   "cell_type": "code",
   "execution_count": null,
   "id": "9108391a",
   "metadata": {},
   "outputs": [],
   "source": [
    "clf.fit(errors)\n",
    "\n",
    "# get the prediction labels and outlier scores of the training data\n",
    "y_train_pred = clf.labels_  # binary labels (0: inliers, 1: outliers)\n",
    "y_train_scores = clf.decision_scores_  # raw outlier scores\n",
    "\n",
    "# evaluate and print the results\n",
    "print(\"\\nOn Data:\")\n",
    "evaluate_print('KDE', labels, y_train_scores)"
   ]
  },
  {
   "cell_type": "code",
   "execution_count": null,
   "id": "8c2369f6",
   "metadata": {},
   "outputs": [],
   "source": [
    "y_train_pred"
   ]
  },
  {
   "cell_type": "code",
   "execution_count": null,
   "id": "7f3825fb",
   "metadata": {},
   "outputs": [],
   "source": [
    "# given y pred, generate scores for BP\n",
    "\n",
    "anom_scores = dict()\n",
    "\n",
    "# for idx, g in enumerate(tqdm(ego_gs)):\n",
    "#     anom_scores[idx] = []\n",
    "\n",
    "for idx, node in enumerate(tqdm(G.nodes())):\n",
    "    # check if root is anomalous first\n",
    "    label = y_train_pred[idx]\n",
    "    \n",
    "    anom_scores[node] = label"
   ]
  },
  {
   "cell_type": "code",
   "execution_count": null,
   "id": "19d6363a",
   "metadata": {},
   "outputs": [],
   "source": [
    "scores = []\n",
    "for idx, g in enumerate(tqdm(ego_gs)):\n",
    "    score = 0\n",
    "    for node in g.nodes:\n",
    "        score += anom_scores[node]\n",
    "    scores.append(score / len(g.nodes))"
   ]
  },
  {
   "cell_type": "code",
   "execution_count": null,
   "id": "a7ce203b",
   "metadata": {},
   "outputs": [],
   "source": [
    "from scipy.sparse import (csr_matrix,\n",
    "                          issparse)"
   ]
  },
  {
   "cell_type": "code",
   "execution_count": null,
   "id": "f47f5c83",
   "metadata": {},
   "outputs": [],
   "source": [
    "from SSLH_inference import *\n",
    "from SSLH_utils import create_parameterized_H"
   ]
  },
  {
   "cell_type": "code",
   "execution_count": null,
   "id": "fc1d186d",
   "metadata": {},
   "outputs": [],
   "source": [
    "scores = np.array(scores).reshape(-1, 1)"
   ]
  },
  {
   "cell_type": "code",
   "execution_count": null,
   "id": "6c72a239",
   "metadata": {},
   "outputs": [],
   "source": [
    "# adjusted for homophily\n",
    "H = np.flip(create_parameterized_H(1, 5, symmetric=True), axis=1)\n",
    "\n",
    "W = csr_matrix(np.ones((len(scores), len(scores))))\n",
    "\n",
    "X = scores"
   ]
  },
  {
   "cell_type": "code",
   "execution_count": null,
   "id": "8a12acb8",
   "metadata": {},
   "outputs": [],
   "source": [
    "out = linBP_symmetric(X, W, H)"
   ]
  },
  {
   "cell_type": "code",
   "execution_count": null,
   "id": "8fe2d545",
   "metadata": {},
   "outputs": [],
   "source": [
    "from sklearn.preprocessing import MinMaxScaler\n",
    "\n",
    "scale = MinMaxScaler()\n",
    "embeddings = scale.fit_transform(np.array(out))"
   ]
  },
  {
   "cell_type": "code",
   "execution_count": null,
   "id": "cc4851f5",
   "metadata": {
    "scrolled": true
   },
   "outputs": [],
   "source": [
    "roc_auc_score(labels, embeddings)"
   ]
  },
  {
   "cell_type": "code",
   "execution_count": null,
   "id": "4888cac5",
   "metadata": {},
   "outputs": [],
   "source": [
    "1 - roc_auc_score(labels, embeddings)"
   ]
  }
 ],
 "metadata": {
  "kernelspec": {
   "display_name": "Python 3.9.6 ('anom_detect')",
   "language": "python",
   "name": "python3"
  },
  "language_info": {
   "codemirror_mode": {
    "name": "ipython",
    "version": 3
   },
   "file_extension": ".py",
   "mimetype": "text/x-python",
   "name": "python",
   "nbconvert_exporter": "python",
   "pygments_lexer": "ipython3",
   "version": "3.9.6"
  },
  "vscode": {
   "interpreter": {
    "hash": "13b2b21ceeb0d6cdc283bf1c7ddabad54f6fedb13073061a08677843d5250697"
   }
  }
 },
 "nbformat": 4,
 "nbformat_minor": 5
}
